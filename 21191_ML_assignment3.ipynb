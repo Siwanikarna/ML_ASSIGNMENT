{
  "cells": [
    {
      "cell_type": "markdown",
      "metadata": {
        "id": "qj2L0sSfVcqi"
      },
      "source": [
        "# Importing and printing Dataset"
      ]
    },
    {
      "cell_type": "code",
      "execution_count": 1,
      "metadata": {
        "colab": {
          "base_uri": "https://localhost:8080/",
          "height": 1000
        },
        "id": "5Z4vC9HEsy7e",
        "outputId": "993b0a31-ff8a-4a44-f6de-37e4c0fba1ac"
      },
      "outputs": [
        {
          "output_type": "execute_result",
          "data": {
            "text/plain": [
              "     Unnamed: 0                          id   age  gender  diagnosed  \\\n",
              "0             0  2019-09-25T18-51-06-885Z26  65.0       1          1   \n",
              "1             1   2019-10-02T00-47-55-382Z3  57.0       1          1   \n",
              "2             2  2019-10-03T13-13-40-042Z56  51.0       1          0   \n",
              "3             3  2019-10-05T02-22-14-207Z34  72.0       1          1   \n",
              "4             4  2019-10-05T14-19-59-179Z31  86.0       0          0   \n",
              "..          ...                         ...   ...     ...        ...   \n",
              "512         512  2020-04-18T17-29-39-337Z43  74.0       1          0   \n",
              "513         513  2020-04-18T17-33-39-585Z56  67.0       0          1   \n",
              "514         514  2020-04-18T21-15-17-924Z84  59.0       0          0   \n",
              "515         515  2020-04-19T15-14-28-684Z91  64.0       0          0   \n",
              "516         516   2020-04-20T14-36-35-981Z9  59.0       0          0   \n",
              "\n",
              "     AU_01_t12  AU_06_t12  AU_12_t12  AU_04_t13  AU_07_t13  AU_09_t13  \\\n",
              "0     0.079102   0.252395   0.482137   0.216193   0.074656   0.005104   \n",
              "1     0.059371   0.086916   0.147827   0.321326   0.100838   0.015806   \n",
              "2     0.228496   0.517799   0.077302   0.023963   0.008114   0.009518   \n",
              "3     0.058291   0.077728   0.170557   0.243995   0.012674   0.108509   \n",
              "4     0.008417   0.215586   0.103639   0.081530   0.192569   0.007118   \n",
              "..         ...        ...        ...        ...        ...        ...   \n",
              "512   0.467770   0.058379   0.137685   0.226604   0.000440   0.001634   \n",
              "513   0.005744   0.032865   0.189778   0.057712   0.212300   0.013286   \n",
              "514   0.027014   0.557507   0.234040   0.976259   0.689190   0.030017   \n",
              "515   0.021722   0.162771   0.905485   0.197712   0.198037   0.112724   \n",
              "516   0.004831   0.159525   0.126691   0.053409   0.063835   0.012370   \n",
              "\n",
              "     AU_01_t14  AU_02_t14  AU_04_t14  \n",
              "0     0.276285   0.103460   1.463085  \n",
              "1     0.339573   0.034221   0.327894  \n",
              "2     0.249356   0.187397   0.123984  \n",
              "3     1.021001   1.738898   0.254853  \n",
              "4     0.000000   0.000000   0.000000  \n",
              "..         ...        ...        ...  \n",
              "512   0.042374   0.001818   0.353959  \n",
              "513   0.309719   0.086577   0.000581  \n",
              "514   0.094675   0.070691   0.783146  \n",
              "515   0.059400   0.163631   1.268910  \n",
              "516   0.158586   0.054872   0.345505  \n",
              "\n",
              "[517 rows x 14 columns]"
            ],
            "text/html": [
              "\n",
              "  <div id=\"df-d73217f1-834c-4e2b-a97a-dac21d9d7fb2\" class=\"colab-df-container\">\n",
              "    <div>\n",
              "<style scoped>\n",
              "    .dataframe tbody tr th:only-of-type {\n",
              "        vertical-align: middle;\n",
              "    }\n",
              "\n",
              "    .dataframe tbody tr th {\n",
              "        vertical-align: top;\n",
              "    }\n",
              "\n",
              "    .dataframe thead th {\n",
              "        text-align: right;\n",
              "    }\n",
              "</style>\n",
              "<table border=\"1\" class=\"dataframe\">\n",
              "  <thead>\n",
              "    <tr style=\"text-align: right;\">\n",
              "      <th></th>\n",
              "      <th>Unnamed: 0</th>\n",
              "      <th>id</th>\n",
              "      <th>age</th>\n",
              "      <th>gender</th>\n",
              "      <th>diagnosed</th>\n",
              "      <th>AU_01_t12</th>\n",
              "      <th>AU_06_t12</th>\n",
              "      <th>AU_12_t12</th>\n",
              "      <th>AU_04_t13</th>\n",
              "      <th>AU_07_t13</th>\n",
              "      <th>AU_09_t13</th>\n",
              "      <th>AU_01_t14</th>\n",
              "      <th>AU_02_t14</th>\n",
              "      <th>AU_04_t14</th>\n",
              "    </tr>\n",
              "  </thead>\n",
              "  <tbody>\n",
              "    <tr>\n",
              "      <th>0</th>\n",
              "      <td>0</td>\n",
              "      <td>2019-09-25T18-51-06-885Z26</td>\n",
              "      <td>65.0</td>\n",
              "      <td>1</td>\n",
              "      <td>1</td>\n",
              "      <td>0.079102</td>\n",
              "      <td>0.252395</td>\n",
              "      <td>0.482137</td>\n",
              "      <td>0.216193</td>\n",
              "      <td>0.074656</td>\n",
              "      <td>0.005104</td>\n",
              "      <td>0.276285</td>\n",
              "      <td>0.103460</td>\n",
              "      <td>1.463085</td>\n",
              "    </tr>\n",
              "    <tr>\n",
              "      <th>1</th>\n",
              "      <td>1</td>\n",
              "      <td>2019-10-02T00-47-55-382Z3</td>\n",
              "      <td>57.0</td>\n",
              "      <td>1</td>\n",
              "      <td>1</td>\n",
              "      <td>0.059371</td>\n",
              "      <td>0.086916</td>\n",
              "      <td>0.147827</td>\n",
              "      <td>0.321326</td>\n",
              "      <td>0.100838</td>\n",
              "      <td>0.015806</td>\n",
              "      <td>0.339573</td>\n",
              "      <td>0.034221</td>\n",
              "      <td>0.327894</td>\n",
              "    </tr>\n",
              "    <tr>\n",
              "      <th>2</th>\n",
              "      <td>2</td>\n",
              "      <td>2019-10-03T13-13-40-042Z56</td>\n",
              "      <td>51.0</td>\n",
              "      <td>1</td>\n",
              "      <td>0</td>\n",
              "      <td>0.228496</td>\n",
              "      <td>0.517799</td>\n",
              "      <td>0.077302</td>\n",
              "      <td>0.023963</td>\n",
              "      <td>0.008114</td>\n",
              "      <td>0.009518</td>\n",
              "      <td>0.249356</td>\n",
              "      <td>0.187397</td>\n",
              "      <td>0.123984</td>\n",
              "    </tr>\n",
              "    <tr>\n",
              "      <th>3</th>\n",
              "      <td>3</td>\n",
              "      <td>2019-10-05T02-22-14-207Z34</td>\n",
              "      <td>72.0</td>\n",
              "      <td>1</td>\n",
              "      <td>1</td>\n",
              "      <td>0.058291</td>\n",
              "      <td>0.077728</td>\n",
              "      <td>0.170557</td>\n",
              "      <td>0.243995</td>\n",
              "      <td>0.012674</td>\n",
              "      <td>0.108509</td>\n",
              "      <td>1.021001</td>\n",
              "      <td>1.738898</td>\n",
              "      <td>0.254853</td>\n",
              "    </tr>\n",
              "    <tr>\n",
              "      <th>4</th>\n",
              "      <td>4</td>\n",
              "      <td>2019-10-05T14-19-59-179Z31</td>\n",
              "      <td>86.0</td>\n",
              "      <td>0</td>\n",
              "      <td>0</td>\n",
              "      <td>0.008417</td>\n",
              "      <td>0.215586</td>\n",
              "      <td>0.103639</td>\n",
              "      <td>0.081530</td>\n",
              "      <td>0.192569</td>\n",
              "      <td>0.007118</td>\n",
              "      <td>0.000000</td>\n",
              "      <td>0.000000</td>\n",
              "      <td>0.000000</td>\n",
              "    </tr>\n",
              "    <tr>\n",
              "      <th>...</th>\n",
              "      <td>...</td>\n",
              "      <td>...</td>\n",
              "      <td>...</td>\n",
              "      <td>...</td>\n",
              "      <td>...</td>\n",
              "      <td>...</td>\n",
              "      <td>...</td>\n",
              "      <td>...</td>\n",
              "      <td>...</td>\n",
              "      <td>...</td>\n",
              "      <td>...</td>\n",
              "      <td>...</td>\n",
              "      <td>...</td>\n",
              "      <td>...</td>\n",
              "    </tr>\n",
              "    <tr>\n",
              "      <th>512</th>\n",
              "      <td>512</td>\n",
              "      <td>2020-04-18T17-29-39-337Z43</td>\n",
              "      <td>74.0</td>\n",
              "      <td>1</td>\n",
              "      <td>0</td>\n",
              "      <td>0.467770</td>\n",
              "      <td>0.058379</td>\n",
              "      <td>0.137685</td>\n",
              "      <td>0.226604</td>\n",
              "      <td>0.000440</td>\n",
              "      <td>0.001634</td>\n",
              "      <td>0.042374</td>\n",
              "      <td>0.001818</td>\n",
              "      <td>0.353959</td>\n",
              "    </tr>\n",
              "    <tr>\n",
              "      <th>513</th>\n",
              "      <td>513</td>\n",
              "      <td>2020-04-18T17-33-39-585Z56</td>\n",
              "      <td>67.0</td>\n",
              "      <td>0</td>\n",
              "      <td>1</td>\n",
              "      <td>0.005744</td>\n",
              "      <td>0.032865</td>\n",
              "      <td>0.189778</td>\n",
              "      <td>0.057712</td>\n",
              "      <td>0.212300</td>\n",
              "      <td>0.013286</td>\n",
              "      <td>0.309719</td>\n",
              "      <td>0.086577</td>\n",
              "      <td>0.000581</td>\n",
              "    </tr>\n",
              "    <tr>\n",
              "      <th>514</th>\n",
              "      <td>514</td>\n",
              "      <td>2020-04-18T21-15-17-924Z84</td>\n",
              "      <td>59.0</td>\n",
              "      <td>0</td>\n",
              "      <td>0</td>\n",
              "      <td>0.027014</td>\n",
              "      <td>0.557507</td>\n",
              "      <td>0.234040</td>\n",
              "      <td>0.976259</td>\n",
              "      <td>0.689190</td>\n",
              "      <td>0.030017</td>\n",
              "      <td>0.094675</td>\n",
              "      <td>0.070691</td>\n",
              "      <td>0.783146</td>\n",
              "    </tr>\n",
              "    <tr>\n",
              "      <th>515</th>\n",
              "      <td>515</td>\n",
              "      <td>2020-04-19T15-14-28-684Z91</td>\n",
              "      <td>64.0</td>\n",
              "      <td>0</td>\n",
              "      <td>0</td>\n",
              "      <td>0.021722</td>\n",
              "      <td>0.162771</td>\n",
              "      <td>0.905485</td>\n",
              "      <td>0.197712</td>\n",
              "      <td>0.198037</td>\n",
              "      <td>0.112724</td>\n",
              "      <td>0.059400</td>\n",
              "      <td>0.163631</td>\n",
              "      <td>1.268910</td>\n",
              "    </tr>\n",
              "    <tr>\n",
              "      <th>516</th>\n",
              "      <td>516</td>\n",
              "      <td>2020-04-20T14-36-35-981Z9</td>\n",
              "      <td>59.0</td>\n",
              "      <td>0</td>\n",
              "      <td>0</td>\n",
              "      <td>0.004831</td>\n",
              "      <td>0.159525</td>\n",
              "      <td>0.126691</td>\n",
              "      <td>0.053409</td>\n",
              "      <td>0.063835</td>\n",
              "      <td>0.012370</td>\n",
              "      <td>0.158586</td>\n",
              "      <td>0.054872</td>\n",
              "      <td>0.345505</td>\n",
              "    </tr>\n",
              "  </tbody>\n",
              "</table>\n",
              "<p>517 rows × 14 columns</p>\n",
              "</div>\n",
              "    <div class=\"colab-df-buttons\">\n",
              "\n",
              "  <div class=\"colab-df-container\">\n",
              "    <button class=\"colab-df-convert\" onclick=\"convertToInteractive('df-d73217f1-834c-4e2b-a97a-dac21d9d7fb2')\"\n",
              "            title=\"Convert this dataframe to an interactive table.\"\n",
              "            style=\"display:none;\">\n",
              "\n",
              "  <svg xmlns=\"http://www.w3.org/2000/svg\" height=\"24px\" viewBox=\"0 -960 960 960\">\n",
              "    <path d=\"M120-120v-720h720v720H120Zm60-500h600v-160H180v160Zm220 220h160v-160H400v160Zm0 220h160v-160H400v160ZM180-400h160v-160H180v160Zm440 0h160v-160H620v160ZM180-180h160v-160H180v160Zm440 0h160v-160H620v160Z\"/>\n",
              "  </svg>\n",
              "    </button>\n",
              "\n",
              "  <style>\n",
              "    .colab-df-container {\n",
              "      display:flex;\n",
              "      gap: 12px;\n",
              "    }\n",
              "\n",
              "    .colab-df-convert {\n",
              "      background-color: #E8F0FE;\n",
              "      border: none;\n",
              "      border-radius: 50%;\n",
              "      cursor: pointer;\n",
              "      display: none;\n",
              "      fill: #1967D2;\n",
              "      height: 32px;\n",
              "      padding: 0 0 0 0;\n",
              "      width: 32px;\n",
              "    }\n",
              "\n",
              "    .colab-df-convert:hover {\n",
              "      background-color: #E2EBFA;\n",
              "      box-shadow: 0px 1px 2px rgba(60, 64, 67, 0.3), 0px 1px 3px 1px rgba(60, 64, 67, 0.15);\n",
              "      fill: #174EA6;\n",
              "    }\n",
              "\n",
              "    .colab-df-buttons div {\n",
              "      margin-bottom: 4px;\n",
              "    }\n",
              "\n",
              "    [theme=dark] .colab-df-convert {\n",
              "      background-color: #3B4455;\n",
              "      fill: #D2E3FC;\n",
              "    }\n",
              "\n",
              "    [theme=dark] .colab-df-convert:hover {\n",
              "      background-color: #434B5C;\n",
              "      box-shadow: 0px 1px 3px 1px rgba(0, 0, 0, 0.15);\n",
              "      filter: drop-shadow(0px 1px 2px rgba(0, 0, 0, 0.3));\n",
              "      fill: #FFFFFF;\n",
              "    }\n",
              "  </style>\n",
              "\n",
              "    <script>\n",
              "      const buttonEl =\n",
              "        document.querySelector('#df-d73217f1-834c-4e2b-a97a-dac21d9d7fb2 button.colab-df-convert');\n",
              "      buttonEl.style.display =\n",
              "        google.colab.kernel.accessAllowed ? 'block' : 'none';\n",
              "\n",
              "      async function convertToInteractive(key) {\n",
              "        const element = document.querySelector('#df-d73217f1-834c-4e2b-a97a-dac21d9d7fb2');\n",
              "        const dataTable =\n",
              "          await google.colab.kernel.invokeFunction('convertToInteractive',\n",
              "                                                    [key], {});\n",
              "        if (!dataTable) return;\n",
              "\n",
              "        const docLinkHtml = 'Like what you see? Visit the ' +\n",
              "          '<a target=\"_blank\" href=https://colab.research.google.com/notebooks/data_table.ipynb>data table notebook</a>'\n",
              "          + ' to learn more about interactive tables.';\n",
              "        element.innerHTML = '';\n",
              "        dataTable['output_type'] = 'display_data';\n",
              "        await google.colab.output.renderOutput(dataTable, element);\n",
              "        const docLink = document.createElement('div');\n",
              "        docLink.innerHTML = docLinkHtml;\n",
              "        element.appendChild(docLink);\n",
              "      }\n",
              "    </script>\n",
              "  </div>\n",
              "\n",
              "\n",
              "<div id=\"df-4ca6414f-5ae6-4d74-949f-cd096597e584\">\n",
              "  <button class=\"colab-df-quickchart\" onclick=\"quickchart('df-4ca6414f-5ae6-4d74-949f-cd096597e584')\"\n",
              "            title=\"Suggest charts.\"\n",
              "            style=\"display:none;\">\n",
              "\n",
              "<svg xmlns=\"http://www.w3.org/2000/svg\" height=\"24px\"viewBox=\"0 0 24 24\"\n",
              "     width=\"24px\">\n",
              "    <g>\n",
              "        <path d=\"M19 3H5c-1.1 0-2 .9-2 2v14c0 1.1.9 2 2 2h14c1.1 0 2-.9 2-2V5c0-1.1-.9-2-2-2zM9 17H7v-7h2v7zm4 0h-2V7h2v10zm4 0h-2v-4h2v4z\"/>\n",
              "    </g>\n",
              "</svg>\n",
              "  </button>\n",
              "\n",
              "<style>\n",
              "  .colab-df-quickchart {\n",
              "      --bg-color: #E8F0FE;\n",
              "      --fill-color: #1967D2;\n",
              "      --hover-bg-color: #E2EBFA;\n",
              "      --hover-fill-color: #174EA6;\n",
              "      --disabled-fill-color: #AAA;\n",
              "      --disabled-bg-color: #DDD;\n",
              "  }\n",
              "\n",
              "  [theme=dark] .colab-df-quickchart {\n",
              "      --bg-color: #3B4455;\n",
              "      --fill-color: #D2E3FC;\n",
              "      --hover-bg-color: #434B5C;\n",
              "      --hover-fill-color: #FFFFFF;\n",
              "      --disabled-bg-color: #3B4455;\n",
              "      --disabled-fill-color: #666;\n",
              "  }\n",
              "\n",
              "  .colab-df-quickchart {\n",
              "    background-color: var(--bg-color);\n",
              "    border: none;\n",
              "    border-radius: 50%;\n",
              "    cursor: pointer;\n",
              "    display: none;\n",
              "    fill: var(--fill-color);\n",
              "    height: 32px;\n",
              "    padding: 0;\n",
              "    width: 32px;\n",
              "  }\n",
              "\n",
              "  .colab-df-quickchart:hover {\n",
              "    background-color: var(--hover-bg-color);\n",
              "    box-shadow: 0 1px 2px rgba(60, 64, 67, 0.3), 0 1px 3px 1px rgba(60, 64, 67, 0.15);\n",
              "    fill: var(--button-hover-fill-color);\n",
              "  }\n",
              "\n",
              "  .colab-df-quickchart-complete:disabled,\n",
              "  .colab-df-quickchart-complete:disabled:hover {\n",
              "    background-color: var(--disabled-bg-color);\n",
              "    fill: var(--disabled-fill-color);\n",
              "    box-shadow: none;\n",
              "  }\n",
              "\n",
              "  .colab-df-spinner {\n",
              "    border: 2px solid var(--fill-color);\n",
              "    border-color: transparent;\n",
              "    border-bottom-color: var(--fill-color);\n",
              "    animation:\n",
              "      spin 1s steps(1) infinite;\n",
              "  }\n",
              "\n",
              "  @keyframes spin {\n",
              "    0% {\n",
              "      border-color: transparent;\n",
              "      border-bottom-color: var(--fill-color);\n",
              "      border-left-color: var(--fill-color);\n",
              "    }\n",
              "    20% {\n",
              "      border-color: transparent;\n",
              "      border-left-color: var(--fill-color);\n",
              "      border-top-color: var(--fill-color);\n",
              "    }\n",
              "    30% {\n",
              "      border-color: transparent;\n",
              "      border-left-color: var(--fill-color);\n",
              "      border-top-color: var(--fill-color);\n",
              "      border-right-color: var(--fill-color);\n",
              "    }\n",
              "    40% {\n",
              "      border-color: transparent;\n",
              "      border-right-color: var(--fill-color);\n",
              "      border-top-color: var(--fill-color);\n",
              "    }\n",
              "    60% {\n",
              "      border-color: transparent;\n",
              "      border-right-color: var(--fill-color);\n",
              "    }\n",
              "    80% {\n",
              "      border-color: transparent;\n",
              "      border-right-color: var(--fill-color);\n",
              "      border-bottom-color: var(--fill-color);\n",
              "    }\n",
              "    90% {\n",
              "      border-color: transparent;\n",
              "      border-bottom-color: var(--fill-color);\n",
              "    }\n",
              "  }\n",
              "</style>\n",
              "\n",
              "  <script>\n",
              "    async function quickchart(key) {\n",
              "      const quickchartButtonEl =\n",
              "        document.querySelector('#' + key + ' button');\n",
              "      quickchartButtonEl.disabled = true;  // To prevent multiple clicks.\n",
              "      quickchartButtonEl.classList.add('colab-df-spinner');\n",
              "      try {\n",
              "        const charts = await google.colab.kernel.invokeFunction(\n",
              "            'suggestCharts', [key], {});\n",
              "      } catch (error) {\n",
              "        console.error('Error during call to suggestCharts:', error);\n",
              "      }\n",
              "      quickchartButtonEl.classList.remove('colab-df-spinner');\n",
              "      quickchartButtonEl.classList.add('colab-df-quickchart-complete');\n",
              "    }\n",
              "    (() => {\n",
              "      let quickchartButtonEl =\n",
              "        document.querySelector('#df-4ca6414f-5ae6-4d74-949f-cd096597e584 button');\n",
              "      quickchartButtonEl.style.display =\n",
              "        google.colab.kernel.accessAllowed ? 'block' : 'none';\n",
              "    })();\n",
              "  </script>\n",
              "</div>\n",
              "    </div>\n",
              "  </div>\n"
            ]
          },
          "metadata": {},
          "execution_count": 1
        }
      ],
      "source": [
        "import pandas as pd\n",
        "import numpy as np\n",
        "data=pd.read_csv(\"face_mimic_df.csv\") #importing data set\n",
        "data #printing data set"
      ]
    },
    {
      "cell_type": "code",
      "execution_count": 2,
      "metadata": {
        "colab": {
          "base_uri": "https://localhost:8080/"
        },
        "id": "8O0E2QK_w_yc",
        "outputId": "e812573d-3b9d-42c6-cffb-762ee8944467"
      },
      "outputs": [
        {
          "output_type": "execute_result",
          "data": {
            "text/plain": [
              "Unnamed: 0      int64\n",
              "id             object\n",
              "age           float64\n",
              "gender          int64\n",
              "diagnosed       int64\n",
              "AU_01_t12     float64\n",
              "AU_06_t12     float64\n",
              "AU_12_t12     float64\n",
              "AU_04_t13     float64\n",
              "AU_07_t13     float64\n",
              "AU_09_t13     float64\n",
              "AU_01_t14     float64\n",
              "AU_02_t14     float64\n",
              "AU_04_t14     float64\n",
              "dtype: object"
            ]
          },
          "metadata": {},
          "execution_count": 2
        }
      ],
      "source": [
        "data.dtypes #checking the datatypes"
      ]
    },
    {
      "cell_type": "code",
      "execution_count": 3,
      "metadata": {
        "colab": {
          "base_uri": "https://localhost:8080/"
        },
        "id": "-sMOCzXjxB69",
        "outputId": "87e6b1d1-816e-481b-ec6e-dcc64bd9eac0"
      },
      "outputs": [
        {
          "output_type": "stream",
          "name": "stdout",
          "text": [
            "Unnamed: 0    0\n",
            "id            0\n",
            "age           0\n",
            "gender        0\n",
            "diagnosed     0\n",
            "AU_01_t12     0\n",
            "AU_06_t12     0\n",
            "AU_12_t12     0\n",
            "AU_04_t13     0\n",
            "AU_07_t13     0\n",
            "AU_09_t13     0\n",
            "AU_01_t14     0\n",
            "AU_02_t14     0\n",
            "AU_04_t14     0\n",
            "dtype: int64\n"
          ]
        }
      ],
      "source": [
        "print(data.isnull().sum()) #null values calculation"
      ]
    },
    {
      "cell_type": "code",
      "execution_count": null,
      "metadata": {
        "id": "-64QJmuZxFpd"
      },
      "outputs": [],
      "source": [
        "data.dropna(inplace=True) # dropping the data that has null values (in our case none)"
      ]
    },
    {
      "cell_type": "markdown",
      "metadata": {
        "id": "XHPGuUpryDz_"
      },
      "source": [
        "# A1. Calculate mean, SD and Distance between mean vector between classes"
      ]
    },
    {
      "cell_type": "code",
      "execution_count": 4,
      "metadata": {
        "colab": {
          "base_uri": "https://localhost:8080/"
        },
        "id": "kWG9IT5FtpSG",
        "outputId": "1e4cada0-f721-46cf-d377-1e6d29c35f27"
      },
      "outputs": [
        {
          "output_type": "stream",
          "name": "stdout",
          "text": [
            "Mean for 'AU_01_t12' in Class 0: 0.0739586468286658\n",
            "Standard Deviation for 'AU_01_t12' in Class 0: 0.11939504790822235\n",
            "\n",
            "Mean for 'AU_01_t12' in Class 1: 0.14487368040569257\n",
            "Standard Deviation for 'AU_01_t12' in Class 1: 0.18154861383633517\n",
            "\n",
            "Distance Between Mean Values for 'AU_01_t12': 0.07091503357702676\n"
          ]
        }
      ],
      "source": [
        "# Extract 'AU_01_t12' values for Class 0 (not diagnosed) cases\n",
        "au_01_t12_class_0 = data[data['diagnosed'] == 0]['AU_01_t12']\n",
        "\n",
        "# Extract 'AU_01_t12' values for Class 1 (diagnosed) cases\n",
        "au_01_t12_class_1 = data[data['diagnosed'] == 1]['AU_01_t12']\n",
        "\n",
        "# Calculate the mean and standard deviation for 'AU_01_t12' in Class 0\n",
        "au_01_t12_class_0_mean = au_01_t12_class_0.mean()\n",
        "au_01_t12_class_0_std = au_01_t12_class_0.std()\n",
        "\n",
        "# Calculate the mean and standard deviation for 'AU_01_t12' in Class 1\n",
        "au_01_t12_class_1_mean = au_01_t12_class_1.mean()\n",
        "au_01_t12_class_1_std = au_01_t12_class_1.std()\n",
        "\n",
        "# Calculate the Euclidean distance between mean values of Class 0 and Class 1\n",
        "distance_between_classes = np.linalg.norm(au_01_t12_class_0_mean - au_01_t12_class_1_mean)\n",
        "\n",
        "# Print the results\n",
        "print(\"Mean for 'AU_01_t12' in Class 0:\", au_01_t12_class_0_mean)\n",
        "print(\"Standard Deviation for 'AU_01_t12' in Class 0:\", au_01_t12_class_0_std)\n",
        "\n",
        "print(\"\\nMean for 'AU_01_t12' in Class 1:\", au_01_t12_class_1_mean)\n",
        "print(\"Standard Deviation for 'AU_01_t12' in Class 1:\", au_01_t12_class_1_std)\n",
        "\n",
        "print(\"\\nDistance Between Mean Values for 'AU_01_t12':\", distance_between_classes)\n"
      ]
    },
    {
      "cell_type": "code",
      "execution_count": 5,
      "metadata": {
        "colab": {
          "base_uri": "https://localhost:8080/",
          "height": 466
        },
        "id": "rFEGjNbJpKod",
        "outputId": "0710b88b-3ad9-4737-dc4a-e354ef16a2d9"
      },
      "outputs": [
        {
          "output_type": "execute_result",
          "data": {
            "text/plain": [
              "<Axes: xlabel='AU_01_t12', ylabel='Count'>"
            ]
          },
          "metadata": {},
          "execution_count": 5
        },
        {
          "output_type": "display_data",
          "data": {
            "text/plain": [
              "<Figure size 640x480 with 1 Axes>"
            ],
            "image/png": "[encoded data removed]"
          },
          "metadata": {}
        }
      ],
      "source": [
        "import seaborn as sns\n",
        "\n",
        "sns.histplot(x = au_01_t12_class_1, color = \"red\", edgecolor = 'None') # Spread of au_01_t12_class_1"
      ]
    },
    {
      "cell_type": "markdown",
      "metadata": {
        "id": "9iCkaBppyJ_S"
      },
      "source": [
        "# A2. Take any feature from your dataset. Observe the density pattern for that feature by plotting the histogram. Use buckets (data in ranges) for histogram generation and study. Calculate the mean and variance from the available data. (Suggestion: numpy.histogram()gives the histogram data. Plot of histogram may be achieved with matplotlib.pyplot.hist())\n"
      ]
    },
    {
      "cell_type": "code",
      "execution_count": 6,
      "metadata": {
        "colab": {
          "base_uri": "https://localhost:8080/",
          "height": 507
        },
        "id": "5VSKxZIcyLkx",
        "outputId": "8dc902ef-46f2-4eb2-94f9-62328777d742"
      },
      "outputs": [
        {
          "output_type": "display_data",
          "data": {
            "text/plain": [
              "<Figure size 640x480 with 1 Axes>"
            ],
            "image/png": "[encoded data removed]"
          },
          "metadata": {}
        },
        {
          "output_type": "stream",
          "name": "stdout",
          "text": [
            "Mean: 0.24123513919360684\n",
            "Variance: 0.05973726440575678\n"
          ]
        }
      ],
      "source": [
        "import matplotlib.pyplot as plt\n",
        "\n",
        "# Calculate the histogram and bin edges for 'AU_06_t12' data\n",
        "hist, bin_edges = np.histogram(data['AU_06_t12'], bins=15)\n",
        "\n",
        "# Calculate the mean and variance of 'AU_06_t12' data\n",
        "mean_value = np.mean(data['AU_06_t12'])\n",
        "variance_value = np.var(data['AU_06_t12'])\n",
        "\n",
        "# Create a histogram plot for 'AU_06_t12' data\n",
        "plt.hist(data['AU_06_t12'], bins=15, alpha=0.7, color='maroon')\n",
        "plt.xlabel('AU_06_t12 Values')\n",
        "plt.ylabel('Frequency')\n",
        "plt.title('Histogram of AU_06_t12')\n",
        "plt.show()\n",
        "\n",
        "# Display the calculated mean and variance values\n",
        "print(\"Mean:\", mean_value)\n",
        "print(\"Variance:\", variance_value)\n"
      ]
    },
    {
      "cell_type": "markdown",
      "metadata": {
        "id": "mdkh8Tqy0Ts3"
      },
      "source": []
    },
    {
      "cell_type": "code",
      "execution_count": 7,
      "metadata": {
        "colab": {
          "base_uri": "https://localhost:8080/"
        },
        "id": "y9vkhSZW9QxU",
        "outputId": "8f24b9f7-3c11-4c4a-873a-3aa0dc06b4de"
      },
      "outputs": [
        {
          "output_type": "stream",
          "name": "stdout",
          "text": [
            "   Unnamed: 0  id   age  gender  diagnosed  AU_01_t12  AU_06_t12  AU_12_t12  \\\n",
            "0           0   0  65.0       1          1   0.079102   0.252395   0.482137   \n",
            "1           1   1  57.0       1          1   0.059371   0.086916   0.147827   \n",
            "2           2   2  51.0       1          0   0.228496   0.517799   0.077302   \n",
            "3           3   3  72.0       1          1   0.058291   0.077728   0.170557   \n",
            "4           4   4  86.0       0          0   0.008417   0.215586   0.103639   \n",
            "\n",
            "   AU_04_t13  AU_07_t13  AU_09_t13  AU_01_t14  AU_02_t14  AU_04_t14  \n",
            "0   0.216193   0.074656   0.005104   0.276285   0.103460   1.463085  \n",
            "1   0.321326   0.100838   0.015806   0.339573   0.034221   0.327894  \n",
            "2   0.023963   0.008114   0.009518   0.249356   0.187397   0.123984  \n",
            "3   0.243995   0.012674   0.108509   1.021001   1.738898   0.254853  \n",
            "4   0.081530   0.192569   0.007118   0.000000   0.000000   0.000000  \n"
          ]
        }
      ],
      "source": [
        "from sklearn.preprocessing import LabelEncoder\n",
        "label_encoder = LabelEncoder()\n",
        "data['id'] = label_encoder.fit_transform(data['id']) # Label encoding\n",
        "print(data.head())"
      ]
    },
    {
      "cell_type": "markdown",
      "metadata": {
        "id": "8JlI1UioVcqy"
      },
      "source": [
        "# A3. Take any two feature vectors from your dataset. Calculate the Minkwoski distance with r from 1 to 10. Make a plot of the distance and observe the nature of this graph."
      ]
    },
    {
      "cell_type": "code",
      "execution_count": 8,
      "metadata": {
        "colab": {
          "base_uri": "https://localhost:8080/",
          "height": 641
        },
        "id": "BDKWwbRU81fE",
        "outputId": "98d95a58-c743-445f-df42-c671d67339ed"
      },
      "outputs": [
        {
          "output_type": "display_data",
          "data": {
            "text/plain": [
              "<Figure size 1000x700 with 1 Axes>"
            ],
            "image/png": "[encoded data removed]"
          },
          "metadata": {}
        }
      ],
      "source": [
        "\n",
        "# Extract 'AU_01_t12' and 'AU_06_t12' data from the dataset\n",
        "AU_01_t12_data = data['AU_01_t12']\n",
        "AU_06_t12_data = data['AU_06_t12']\n",
        "\n",
        "# Define a range of r values from 1 to 10\n",
        "r_values = np.arange(1, 11)\n",
        "\n",
        "# Initialize an empty list to store the calculated distances\n",
        "distances = []\n",
        "\n",
        "# Calculate the Minkowski distance for each r value and store it in 'distances'\n",
        "for r in r_values:\n",
        "    # Calculate the Minkowski distance using the formula\n",
        "    distance = np.power(np.abs(AU_01_t12_data - AU_06_t12_data), r).sum() ** (1 / r)\n",
        "\n",
        "    # Append the calculated distance to the 'distances' list\n",
        "    distances.append(distance)\n",
        "\n",
        "# Create a plot to visualize the Minkowski distance vs. r\n",
        "plt.figure(figsize=(10, 7))\n",
        "plt.plot(r_values, distances, marker='o', linestyle='-',color=\"green\")\n",
        "plt.xlabel('r')\n",
        "plt.ylabel('Minkowski Distance')\n",
        "plt.title('Minkowski Distance vs. r')\n",
        "plt.grid(True)\n",
        "plt.xticks(r_values)\n",
        "plt.show()\n"
      ]
    },
    {
      "cell_type": "markdown",
      "metadata": {
        "id": "GrfBY-TBVcqy"
      },
      "source": [
        "# A4. Divide dataset in your project into two parts – train & test set. To accomplish this, use the train-test_split() function available in SciKit.\n"
      ]
    },
    {
      "cell_type": "code",
      "execution_count": 9,
      "metadata": {
        "id": "K5eXkIg-95YT",
        "colab": {
          "base_uri": "https://localhost:8080/"
        },
        "outputId": "b4584b6a-bb65-41fd-d3fe-006400bffea0"
      },
      "outputs": [
        {
          "output_type": "stream",
          "name": "stdout",
          "text": [
            "Testing Set (Features):\n",
            "     Unnamed: 0   id   age  gender  AU_01_t12  AU_06_t12  AU_12_t12  \\\n",
            "398         398  389  72.0       1   0.033639   0.060712   0.040344   \n",
            "137         137  222  76.0       1   0.364219   0.063771   0.072814   \n",
            "383         383  372  61.0       0   0.015002   0.024140   0.141094   \n",
            "442         442  436  60.0       0   0.050629   1.098952   0.254060   \n",
            "294         294  335  68.0       0   0.572437   0.131845   0.278202   \n",
            "..          ...  ...   ...     ...        ...        ...        ...   \n",
            "478         478  476  68.0       0   0.027835   0.130269   0.240935   \n",
            "209         209  136  73.0       1   0.030280   0.041577   0.024523   \n",
            "395         395  385  68.0       0   0.015824   0.233927   0.159004   \n",
            "179         179  176  57.0       0   0.201837   0.637912   0.105065   \n",
            "290         290  331  66.0       1   0.246540   0.048110   0.352689   \n",
            "\n",
            "     AU_04_t13  AU_07_t13  AU_09_t13  AU_01_t14  AU_02_t14  AU_04_t14  \n",
            "398   0.085651   0.008938   0.027960   0.000000   0.000000   0.000000  \n",
            "137   0.068387   0.003496   0.026431   0.005144   0.000997   0.040370  \n",
            "383   0.217394   0.115499   0.016639   0.059164   0.032296   0.204914  \n",
            "442   0.204384   0.374580   0.024605   0.047182   0.023838   0.072382  \n",
            "294   0.382539   0.206584   0.036931   0.139477   0.114121   0.287445  \n",
            "..         ...        ...        ...        ...        ...        ...  \n",
            "478   0.266463   0.298337   0.069244   0.730273   0.197915   0.009682  \n",
            "209   0.168157   0.359741   0.012353   0.083489   0.158147   0.605267  \n",
            "395   0.109282   0.144826   0.079545   0.523692   0.080324   0.101987  \n",
            "179   0.137361   0.400650   0.036385   0.095744   0.022872   0.279387  \n",
            "290   0.278765   0.277993   0.013506   0.350278   0.525735   0.846732  \n",
            "\n",
            "[104 rows x 13 columns]\n",
            "\n",
            "Testing Set Labels:\n",
            "398    0\n",
            "137    0\n",
            "383    0\n",
            "442    0\n",
            "294    1\n",
            "      ..\n",
            "478    0\n",
            "209    0\n",
            "395    0\n",
            "179    0\n",
            "290    1\n",
            "Name: diagnosed, Length: 104, dtype: int64\n"
          ]
        }
      ],
      "source": [
        "from sklearn.model_selection import train_test_split\n",
        "\n",
        "# Split the data into features (x) and labels (y)\n",
        "x = data.drop(\"diagnosed\", axis=1)  # Training set (features)\n",
        "y = data[\"diagnosed\"]  # Labels\n",
        "\n",
        "# Split the data into training and testing sets, with 80% for training and 20% for testing\n",
        "x_train, x_test, y_train, y_test = train_test_split(x, y, test_size=0.2)\n",
        "\n",
        "# Print the testing set (features) and testing set labels\n",
        "print(\"Testing Set (Features):\")\n",
        "print(x_test)\n",
        "\n",
        "print(\"\\nTesting Set Labels:\")\n",
        "print(y_test)\n"
      ]
    },
    {
      "cell_type": "markdown",
      "metadata": {
        "id": "USYskcJAVcqz"
      },
      "source": [
        "# A5. Train a kNN classifier (k =3) using the training set obtained from above exercise."
      ]
    },
    {
      "cell_type": "code",
      "execution_count": 10,
      "metadata": {
        "colab": {
          "base_uri": "https://localhost:8080/",
          "height": 74
        },
        "id": "jf0sieYU-mwz",
        "outputId": "4c7c357e-e597-453a-91fd-5cc6e0fb0185"
      },
      "outputs": [
        {
          "output_type": "execute_result",
          "data": {
            "text/plain": [
              "KNeighborsClassifier(n_neighbors=3)"
            ],
            "text/html": [
              "<style>#sk-container-id-1 {color: black;background-color: white;}#sk-container-id-1 pre{padding: 0;}#sk-container-id-1 div.sk-toggleable {background-color: white;}#sk-container-id-1 label.sk-toggleable__label {cursor: pointer;display: block;width: 100%;margin-bottom: 0;padding: 0.3em;box-sizing: border-box;text-align: center;}#sk-container-id-1 label.sk-toggleable__label-arrow:before {content: \"▸\";float: left;margin-right: 0.25em;color: #696969;}#sk-container-id-1 label.sk-toggleable__label-arrow:hover:before {color: black;}#sk-container-id-1 div.sk-estimator:hover label.sk-toggleable__label-arrow:before {color: black;}#sk-container-id-1 div.sk-toggleable__content {max-height: 0;max-width: 0;overflow: hidden;text-align: left;background-color: #f0f8ff;}#sk-container-id-1 div.sk-toggleable__content pre {margin: 0.2em;color: black;border-radius: 0.25em;background-color: #f0f8ff;}#sk-container-id-1 input.sk-toggleable__control:checked~div.sk-toggleable__content {max-height: 200px;max-width: 100%;overflow: auto;}#sk-container-id-1 input.sk-toggleable__control:checked~label.sk-toggleable__label-arrow:before {content: \"▾\";}#sk-container-id-1 div.sk-estimator input.sk-toggleable__control:checked~label.sk-toggleable__label {background-color: #d4ebff;}#sk-container-id-1 div.sk-label input.sk-toggleable__control:checked~label.sk-toggleable__label {background-color: #d4ebff;}#sk-container-id-1 input.sk-hidden--visually {border: 0;clip: rect(1px 1px 1px 1px);clip: rect(1px, 1px, 1px, 1px);height: 1px;margin: -1px;overflow: hidden;padding: 0;position: absolute;width: 1px;}#sk-container-id-1 div.sk-estimator {font-family: monospace;background-color: #f0f8ff;border: 1px dotted black;border-radius: 0.25em;box-sizing: border-box;margin-bottom: 0.5em;}#sk-container-id-1 div.sk-estimator:hover {background-color: #d4ebff;}#sk-container-id-1 div.sk-parallel-item::after {content: \"\";width: 100%;border-bottom: 1px solid gray;flex-grow: 1;}#sk-container-id-1 div.sk-label:hover label.sk-toggleable__label {background-color: #d4ebff;}#sk-container-id-1 div.sk-serial::before {content: \"\";position: absolute;border-left: 1px solid gray;box-sizing: border-box;top: 0;bottom: 0;left: 50%;z-index: 0;}#sk-container-id-1 div.sk-serial {display: flex;flex-direction: column;align-items: center;background-color: white;padding-right: 0.2em;padding-left: 0.2em;position: relative;}#sk-container-id-1 div.sk-item {position: relative;z-index: 1;}#sk-container-id-1 div.sk-parallel {display: flex;align-items: stretch;justify-content: center;background-color: white;position: relative;}#sk-container-id-1 div.sk-item::before, #sk-container-id-1 div.sk-parallel-item::before {content: \"\";position: absolute;border-left: 1px solid gray;box-sizing: border-box;top: 0;bottom: 0;left: 50%;z-index: -1;}#sk-container-id-1 div.sk-parallel-item {display: flex;flex-direction: column;z-index: 1;position: relative;background-color: white;}#sk-container-id-1 div.sk-parallel-item:first-child::after {align-self: flex-end;width: 50%;}#sk-container-id-1 div.sk-parallel-item:last-child::after {align-self: flex-start;width: 50%;}#sk-container-id-1 div.sk-parallel-item:only-child::after {width: 0;}#sk-container-id-1 div.sk-dashed-wrapped {border: 1px dashed gray;margin: 0 0.4em 0.5em 0.4em;box-sizing: border-box;padding-bottom: 0.4em;background-color: white;}#sk-container-id-1 div.sk-label label {font-family: monospace;font-weight: bold;display: inline-block;line-height: 1.2em;}#sk-container-id-1 div.sk-label-container {text-align: center;}#sk-container-id-1 div.sk-container {/* jupyter's `normalize.less` sets `[hidden] { display: none; }` but bootstrap.min.css set `[hidden] { display: none !important; }` so we also need the `!important` here to be able to override the default hidden behavior on the sphinx rendered scikit-learn.org. See: https://github.com/scikit-learn/scikit-learn/issues/21755 */display: inline-block !important;position: relative;}#sk-container-id-1 div.sk-text-repr-fallback {display: none;}</style><div id=\"sk-container-id-1\" class=\"sk-top-container\"><div class=\"sk-text-repr-fallback\"><pre>KNeighborsClassifier(n_neighbors=3)</pre><b>In a Jupyter environment, please rerun this cell to show the HTML representation or trust the notebook. <br />On GitHub, the HTML representation is unable to render, please try loading this page with nbviewer.org.</b></div><div class=\"sk-container\" hidden><div class=\"sk-item\"><div class=\"sk-estimator sk-toggleable\"><input class=\"sk-toggleable__control sk-hidden--visually\" id=\"sk-estimator-id-1\" type=\"checkbox\" checked><label for=\"sk-estimator-id-1\" class=\"sk-toggleable__label sk-toggleable__label-arrow\">KNeighborsClassifier</label><div class=\"sk-toggleable__content\"><pre>KNeighborsClassifier(n_neighbors=3)</pre></div></div></div></div></div>"
            ]
          },
          "metadata": {},
          "execution_count": 10
        }
      ],
      "source": [
        "from sklearn.neighbors import KNeighborsClassifier\n",
        "k_neighbour=KNeighborsClassifier(n_neighbors=3) # Inisiating KNN class from Sklearn library\n",
        "k_neighbour.fit(x_train,y_train) #fiting the data into the model and traning it"
      ]
    },
    {
      "cell_type": "markdown",
      "metadata": {
        "id": "koz3RE5SVcq0"
      },
      "source": [
        "# A6. Test the accuracy of the kNN using the test set obtained from above exercise."
      ]
    },
    {
      "cell_type": "code",
      "execution_count": 11,
      "metadata": {
        "colab": {
          "base_uri": "https://localhost:8080/"
        },
        "id": "yrzZLugH-2s2",
        "outputId": "fe5a9d08-c4be-4958-c6cd-5b2b53a6752d"
      },
      "outputs": [
        {
          "output_type": "stream",
          "name": "stdout",
          "text": [
            "0.9134615384615384\n"
          ]
        }
      ],
      "source": [
        "k_3_score=k_neighbour.score(x_test,y_test) #score method to evaluate the accuracy of the k-nearest neighbors classifier on the testing set\n",
        "print(k_3_score)"
      ]
    },
    {
      "cell_type": "markdown",
      "metadata": {
        "id": "lxi8UTZvVcq0"
      },
      "source": [
        "# A7. Use the predict() function to study the prediction behavior of the classifier for test vectors.\n"
      ]
    },
    {
      "cell_type": "code",
      "execution_count": 12,
      "metadata": {
        "colab": {
          "base_uri": "https://localhost:8080/"
        },
        "id": "RwzUfFbtVcq0",
        "outputId": "df67c390-ae33-4b47-fe80-73f3dea448c1"
      },
      "outputs": [
        {
          "output_type": "stream",
          "name": "stdout",
          "text": [
            "[0 0 0 0 1 0 0 0 0 0 0 0 0 0 0 0 0 0 0 0 0 0 1 0 0 0 0 0 0 0 0 0 0 0 1 0 0\n",
            " 0 0 0 0 0 0 0 0 0 0 0 0 0 0 0 0 0 0 0 0 0 0 0 0 0 0 0 0 0 0 0 0 0 0 0 0 1\n",
            " 0 0 0 0 0 0 0 0 0 0 0 0 0 0 0 0 0 0 0 0 0 0 0 0 0 0 0 0 0 0]\n"
          ]
        }
      ],
      "source": [
        "print(k_neighbour.predict(x_test))#predict method to make predictions on the testing set\n"
      ]
    },
    {
      "cell_type": "markdown",
      "metadata": {
        "id": "DC0aglBiVcq1"
      },
      "source": [
        "# A8. Make k = 1 to implement NN classifier and compare the results with kNN (k = 3). Vary k from 1 to 11 and make an accuracy plot."
      ]
    },
    {
      "cell_type": "code",
      "execution_count": 13,
      "metadata": {
        "colab": {
          "base_uri": "https://localhost:8080/",
          "height": 559
        },
        "id": "7kiH9z_wVcq1",
        "outputId": "28a1c6f3-e01c-412d-c2e9-ad76796d5223"
      },
      "outputs": [
        {
          "output_type": "stream",
          "name": "stdout",
          "text": [
            "[0 0 0 0 1 0 0 0 0 0 0 0 0 0 0 0 0 0 0 0 0 0 1 0 0 0 0 1 0 0 0 0 0 0 1 0 1\n",
            " 0 0 0 0 0 0 0 0 0 0 1 0 0 0 0 1 0 0 0 0 0 1 1 0 0 0 0 0 0 0 0 0 1 0 0 0 1\n",
            " 0 0 0 0 0 0 0 0 1 0 0 0 0 0 0 0 0 0 0 0 0 0 0 0 0 0 0 0 0 1]\n",
            "0.9134615384615384\n",
            "Both predictions are correct with accuracy score: k=1: 1.0 and k=3: 0.9134615384615384\n"
          ]
        },
        {
          "output_type": "display_data",
          "data": {
            "text/plain": [
              "<Figure size 640x480 with 1 Axes>"
            ],
            "image/png": "[encoded data removed]"
          },
          "metadata": {}
        }
      ],
      "source": [
        "k_neighbour = KNeighborsClassifier(n_neighbors=1)\n",
        "k_neighbour.fit(x, y)\n",
        "k_1_score=k_neighbour.score(x_test, y_test)\n",
        "print(k_neighbour.predict(x_test))\n",
        "print(k_3_score)\n",
        "print(f'Both predictions are correct with accuracy score: k=1: {k_1_score} and k=3: {k_3_score}')\n",
        "\n",
        "x_axis= np.arange(1,12)\n",
        "y_axis=[]\n",
        "\n",
        "for i in range(1,12):\n",
        "    k_neighbour = KNeighborsClassifier(n_neighbors=i)\n",
        "    k_neighbour.fit(x, y)\n",
        "    y_axis.append(k_3_score)\n",
        "\n",
        "plt.bar(x_axis,y_axis,color='blue')\n",
        "plt.xlabel('K values')\n",
        "plt.ylabel('Accuracy Score')\n",
        "plt.title('K values vs Accuarcy Score')\n",
        "plt.show()\n"
      ]
    },
    {
      "cell_type": "markdown",
      "metadata": {
        "id": "8PzZ-isB_q88"
      },
      "source": [
        "# A9. Please evaluate confusion matrix for your classification problem. From confusion matrix, the other performance metrics such as precision, recall and F1-Score measures for both training and test data. Based on your observations, infer the models learning outcome (underfit / regularfit / overfit)\n"
      ]
    },
    {
      "cell_type": "code",
      "execution_count": 14,
      "metadata": {
        "colab": {
          "base_uri": "https://localhost:8080/",
          "height": 588
        },
        "id": "r1ogT6hh_vZy",
        "outputId": "961aa3d2-981b-4297-fa78-ee90f8852c3b"
      },
      "outputs": [
        {
          "output_type": "stream",
          "name": "stdout",
          "text": [
            "Confusion Matrix:\n",
            "[[91  0]\n",
            " [ 8  5]]\n",
            "Precision: 1.0\n",
            "Recall: 0.38461538461538464\n",
            "F1-Score: 0.5555555555555556\n",
            "Accuracy: 0.9230769230769231\n",
            "The model is tending towards overfitting.\n"
          ]
        },
        {
          "output_type": "display_data",
          "data": {
            "text/plain": [
              "<Figure size 640x480 with 2 Axes>"
            ],
            "image/png": "[encoded data removed]"
          },
          "metadata": {}
        }
      ],
      "source": [
        "from sklearn.metrics import confusion_matrix, precision_score, recall_score, f1_score, accuracy_score, ConfusionMatrixDisplay\n",
        "\n",
        "# Make predictions on the test set using k_neighbour (previously calculated)\n",
        "y_pred_k_neighbour = k_neighbour.predict(x_test)\n",
        "\n",
        "# Calculate confusion matrix, precision, recall, accuracy, and F1-score\n",
        "confusion_k_neighbour = confusion_matrix(y_test, y_pred_k_neighbour)\n",
        "precision_k_neighbour = precision_score(y_test, y_pred_k_neighbour)\n",
        "recall_k_neighbour = recall_score(y_test, y_pred_k_neighbour)\n",
        "accuracy_k_neighbour = accuracy_score(y_test, y_pred_k_neighbour)\n",
        "f1_k_neighbour = f1_score(y_test, y_pred_k_neighbour)\n",
        "\n",
        "# Print the confusion matrix\n",
        "print(\"Confusion Matrix:\")\n",
        "print(confusion_k_neighbour)\n",
        "\n",
        "# Display the confusion matrix\n",
        "display = ConfusionMatrixDisplay(confusion_k_neighbour, display_labels=k_neighbour.classes_)\n",
        "display.plot()\n",
        "\n",
        "# Print precision, recall, F1-score, and accuracy\n",
        "print(f\"Precision: {precision_k_neighbour}\")\n",
        "print(f\"Recall: {recall_k_neighbour}\")\n",
        "print(f\"F1-Score: {f1_k_neighbour}\")\n",
        "print(f\"Accuracy: {accuracy_k_neighbour}\")\n",
        "\n",
        "# Check if precision is greater than recall (overfitting), less than recall (underfitting), or equal (regular fit)\n",
        "if precision_k_neighbour > recall_k_neighbour:\n",
        "    print(\"The model is tending towards overfitting.\")\n",
        "elif precision_k_neighbour < recall_k_neighbour:\n",
        "    print(\"The model is tending towards underfitting.\")\n",
        "else:\n",
        "    print(\"The model has a regular fit.\")\n",
        "\n"
      ]
    },
    {
      "cell_type": "markdown",
      "metadata": {
        "id": "mULeRzsQx1pY"
      },
      "source": []
    }
  ],
  "metadata": {
    "colab": {
      "provenance": []
    },
    "kernelspec": {
      "display_name": "Python 3 (ipykernel)",
      "language": "python",
      "name": "python3"
    },
    "language_info": {
      "codemirror_mode": {
        "name": "ipython",
        "version": 3
      },
      "file_extension": ".py",
      "mimetype": "text/x-python",
      "name": "python",
      "nbconvert_exporter": "python",
      "pygments_lexer": "ipython3",
      "version": "3.11.4"
    }
  },
  "nbformat": 4,
  "nbformat_minor": 0
}