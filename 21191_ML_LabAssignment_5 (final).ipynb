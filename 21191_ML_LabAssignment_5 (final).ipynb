{
  "cells": [
    {
      "cell_type": "markdown",
      "source": [
        "Name: siwani Karna\n",
        "Reg no: BL.EN.U4CSE21191"
      ],
      "metadata": {
        "id": "q-sDvjIY0kpI"
      },
      "id": "q-sDvjIY0kpI"
    },
    {
      "cell_type": "code",
      "execution_count": 8,
      "id": "93d01257",
      "metadata": {
        "id": "93d01257"
      },
      "outputs": [],
      "source": [
        "import pandas as pd\n",
        "import numpy as np\n",
        "import matplotlib.pyplot as plt\n",
        "import math\n",
        "import time"
      ]
    },
    {
      "cell_type": "code",
      "execution_count": 9,
      "id": "79f61575",
      "metadata": {
        "id": "79f61575"
      },
      "outputs": [],
      "source": [
        "data = [[0,0,0],[0,1,0],[1,0,0],[1,1,1]]\n",
        "and_table = pd.DataFrame(data,columns=['A','B','Z'])"
      ]
    },
    {
      "cell_type": "code",
      "execution_count": 10,
      "id": "56fd9306",
      "metadata": {
        "colab": {
          "base_uri": "https://localhost:8080/",
          "height": 175
        },
        "id": "56fd9306",
        "outputId": "97369a99-6725-4716-9bc7-42747a17bcca"
      },
      "outputs": [
        {
          "output_type": "execute_result",
          "data": {
            "text/plain": [
              "   A  B  Z\n",
              "0  0  0  0\n",
              "1  0  1  0\n",
              "2  1  0  0\n",
              "3  1  1  1"
            ],
            "text/html": [
              "\n",
              "  <div id=\"df-b5df9c70-e21b-473a-b1d9-1b2d37878fdb\" class=\"colab-df-container\">\n",
              "    <div>\n",
              "<style scoped>\n",
              "    .dataframe tbody tr th:only-of-type {\n",
              "        vertical-align: middle;\n",
              "    }\n",
              "\n",
              "    .dataframe tbody tr th {\n",
              "        vertical-align: top;\n",
              "    }\n",
              "\n",
              "    .dataframe thead th {\n",
              "        text-align: right;\n",
              "    }\n",
              "</style>\n",
              "<table border=\"1\" class=\"dataframe\">\n",
              "  <thead>\n",
              "    <tr style=\"text-align: right;\">\n",
              "      <th></th>\n",
              "      <th>A</th>\n",
              "      <th>B</th>\n",
              "      <th>Z</th>\n",
              "    </tr>\n",
              "  </thead>\n",
              "  <tbody>\n",
              "    <tr>\n",
              "      <th>0</th>\n",
              "      <td>0</td>\n",
              "      <td>0</td>\n",
              "      <td>0</td>\n",
              "    </tr>\n",
              "    <tr>\n",
              "      <th>1</th>\n",
              "      <td>0</td>\n",
              "      <td>1</td>\n",
              "      <td>0</td>\n",
              "    </tr>\n",
              "    <tr>\n",
              "      <th>2</th>\n",
              "      <td>1</td>\n",
              "      <td>0</td>\n",
              "      <td>0</td>\n",
              "    </tr>\n",
              "    <tr>\n",
              "      <th>3</th>\n",
              "      <td>1</td>\n",
              "      <td>1</td>\n",
              "      <td>1</td>\n",
              "    </tr>\n",
              "  </tbody>\n",
              "</table>\n",
              "</div>\n",
              "    <div class=\"colab-df-buttons\">\n",
              "\n",
              "  <div class=\"colab-df-container\">\n",
              "    <button class=\"colab-df-convert\" onclick=\"convertToInteractive('df-b5df9c70-e21b-473a-b1d9-1b2d37878fdb')\"\n",
              "            title=\"Convert this dataframe to an interactive table.\"\n",
              "            style=\"display:none;\">\n",
              "\n",
              "  <svg xmlns=\"http://www.w3.org/2000/svg\" height=\"24px\" viewBox=\"0 -960 960 960\">\n",
              "    <path d=\"M120-120v-720h720v720H120Zm60-500h600v-160H180v160Zm220 220h160v-160H400v160Zm0 220h160v-160H400v160ZM180-400h160v-160H180v160Zm440 0h160v-160H620v160ZM180-180h160v-160H180v160Zm440 0h160v-160H620v160Z\"/>\n",
              "  </svg>\n",
              "    </button>\n",
              "\n",
              "  <style>\n",
              "    .colab-df-container {\n",
              "      display:flex;\n",
              "      gap: 12px;\n",
              "    }\n",
              "\n",
              "    .colab-df-convert {\n",
              "      background-color: #E8F0FE;\n",
              "      border: none;\n",
              "      border-radius: 50%;\n",
              "      cursor: pointer;\n",
              "      display: none;\n",
              "      fill: #1967D2;\n",
              "      height: 32px;\n",
              "      padding: 0 0 0 0;\n",
              "      width: 32px;\n",
              "    }\n",
              "\n",
              "    .colab-df-convert:hover {\n",
              "      background-color: #E2EBFA;\n",
              "      box-shadow: 0px 1px 2px rgba(60, 64, 67, 0.3), 0px 1px 3px 1px rgba(60, 64, 67, 0.15);\n",
              "      fill: #174EA6;\n",
              "    }\n",
              "\n",
              "    .colab-df-buttons div {\n",
              "      margin-bottom: 4px;\n",
              "    }\n",
              "\n",
              "    [theme=dark] .colab-df-convert {\n",
              "      background-color: #3B4455;\n",
              "      fill: #D2E3FC;\n",
              "    }\n",
              "\n",
              "    [theme=dark] .colab-df-convert:hover {\n",
              "      background-color: #434B5C;\n",
              "      box-shadow: 0px 1px 3px 1px rgba(0, 0, 0, 0.15);\n",
              "      filter: drop-shadow(0px 1px 2px rgba(0, 0, 0, 0.3));\n",
              "      fill: #FFFFFF;\n",
              "    }\n",
              "  </style>\n",
              "\n",
              "    <script>\n",
              "      const buttonEl =\n",
              "        document.querySelector('#df-b5df9c70-e21b-473a-b1d9-1b2d37878fdb button.colab-df-convert');\n",
              "      buttonEl.style.display =\n",
              "        google.colab.kernel.accessAllowed ? 'block' : 'none';\n",
              "\n",
              "      async function convertToInteractive(key) {\n",
              "        const element = document.querySelector('#df-b5df9c70-e21b-473a-b1d9-1b2d37878fdb');\n",
              "        const dataTable =\n",
              "          await google.colab.kernel.invokeFunction('convertToInteractive',\n",
              "                                                    [key], {});\n",
              "        if (!dataTable) return;\n",
              "\n",
              "        const docLinkHtml = 'Like what you see? Visit the ' +\n",
              "          '<a target=\"_blank\" href=https://colab.research.google.com/notebooks/data_table.ipynb>data table notebook</a>'\n",
              "          + ' to learn more about interactive tables.';\n",
              "        element.innerHTML = '';\n",
              "        dataTable['output_type'] = 'display_data';\n",
              "        await google.colab.output.renderOutput(dataTable, element);\n",
              "        const docLink = document.createElement('div');\n",
              "        docLink.innerHTML = docLinkHtml;\n",
              "        element.appendChild(docLink);\n",
              "      }\n",
              "    </script>\n",
              "  </div>\n",
              "\n",
              "\n",
              "<div id=\"df-cd337fab-0d82-4a2b-aab0-3f580d2e7252\">\n",
              "  <button class=\"colab-df-quickchart\" onclick=\"quickchart('df-cd337fab-0d82-4a2b-aab0-3f580d2e7252')\"\n",
              "            title=\"Suggest charts.\"\n",
              "            style=\"display:none;\">\n",
              "\n",
              "<svg xmlns=\"http://www.w3.org/2000/svg\" height=\"24px\"viewBox=\"0 0 24 24\"\n",
              "     width=\"24px\">\n",
              "    <g>\n",
              "        <path d=\"M19 3H5c-1.1 0-2 .9-2 2v14c0 1.1.9 2 2 2h14c1.1 0 2-.9 2-2V5c0-1.1-.9-2-2-2zM9 17H7v-7h2v7zm4 0h-2V7h2v10zm4 0h-2v-4h2v4z\"/>\n",
              "    </g>\n",
              "</svg>\n",
              "  </button>\n",
              "\n",
              "<style>\n",
              "  .colab-df-quickchart {\n",
              "      --bg-color: #E8F0FE;\n",
              "      --fill-color: #1967D2;\n",
              "      --hover-bg-color: #E2EBFA;\n",
              "      --hover-fill-color: #174EA6;\n",
              "      --disabled-fill-color: #AAA;\n",
              "      --disabled-bg-color: #DDD;\n",
              "  }\n",
              "\n",
              "  [theme=dark] .colab-df-quickchart {\n",
              "      --bg-color: #3B4455;\n",
              "      --fill-color: #D2E3FC;\n",
              "      --hover-bg-color: #434B5C;\n",
              "      --hover-fill-color: #FFFFFF;\n",
              "      --disabled-bg-color: #3B4455;\n",
              "      --disabled-fill-color: #666;\n",
              "  }\n",
              "\n",
              "  .colab-df-quickchart {\n",
              "    background-color: var(--bg-color);\n",
              "    border: none;\n",
              "    border-radius: 50%;\n",
              "    cursor: pointer;\n",
              "    display: none;\n",
              "    fill: var(--fill-color);\n",
              "    height: 32px;\n",
              "    padding: 0;\n",
              "    width: 32px;\n",
              "  }\n",
              "\n",
              "  .colab-df-quickchart:hover {\n",
              "    background-color: var(--hover-bg-color);\n",
              "    box-shadow: 0 1px 2px rgba(60, 64, 67, 0.3), 0 1px 3px 1px rgba(60, 64, 67, 0.15);\n",
              "    fill: var(--button-hover-fill-color);\n",
              "  }\n",
              "\n",
              "  .colab-df-quickchart-complete:disabled,\n",
              "  .colab-df-quickchart-complete:disabled:hover {\n",
              "    background-color: var(--disabled-bg-color);\n",
              "    fill: var(--disabled-fill-color);\n",
              "    box-shadow: none;\n",
              "  }\n",
              "\n",
              "  .colab-df-spinner {\n",
              "    border: 2px solid var(--fill-color);\n",
              "    border-color: transparent;\n",
              "    border-bottom-color: var(--fill-color);\n",
              "    animation:\n",
              "      spin 1s steps(1) infinite;\n",
              "  }\n",
              "\n",
              "  @keyframes spin {\n",
              "    0% {\n",
              "      border-color: transparent;\n",
              "      border-bottom-color: var(--fill-color);\n",
              "      border-left-color: var(--fill-color);\n",
              "    }\n",
              "    20% {\n",
              "      border-color: transparent;\n",
              "      border-left-color: var(--fill-color);\n",
              "      border-top-color: var(--fill-color);\n",
              "    }\n",
              "    30% {\n",
              "      border-color: transparent;\n",
              "      border-left-color: var(--fill-color);\n",
              "      border-top-color: var(--fill-color);\n",
              "      border-right-color: var(--fill-color);\n",
              "    }\n",
              "    40% {\n",
              "      border-color: transparent;\n",
              "      border-right-color: var(--fill-color);\n",
              "      border-top-color: var(--fill-color);\n",
              "    }\n",
              "    60% {\n",
              "      border-color: transparent;\n",
              "      border-right-color: var(--fill-color);\n",
              "    }\n",
              "    80% {\n",
              "      border-color: transparent;\n",
              "      border-right-color: var(--fill-color);\n",
              "      border-bottom-color: var(--fill-color);\n",
              "    }\n",
              "    90% {\n",
              "      border-color: transparent;\n",
              "      border-bottom-color: var(--fill-color);\n",
              "    }\n",
              "  }\n",
              "</style>\n",
              "\n",
              "  <script>\n",
              "    async function quickchart(key) {\n",
              "      const quickchartButtonEl =\n",
              "        document.querySelector('#' + key + ' button');\n",
              "      quickchartButtonEl.disabled = true;  // To prevent multiple clicks.\n",
              "      quickchartButtonEl.classList.add('colab-df-spinner');\n",
              "      try {\n",
              "        const charts = await google.colab.kernel.invokeFunction(\n",
              "            'suggestCharts', [key], {});\n",
              "      } catch (error) {\n",
              "        console.error('Error during call to suggestCharts:', error);\n",
              "      }\n",
              "      quickchartButtonEl.classList.remove('colab-df-spinner');\n",
              "      quickchartButtonEl.classList.add('colab-df-quickchart-complete');\n",
              "    }\n",
              "    (() => {\n",
              "      let quickchartButtonEl =\n",
              "        document.querySelector('#df-cd337fab-0d82-4a2b-aab0-3f580d2e7252 button');\n",
              "      quickchartButtonEl.style.display =\n",
              "        google.colab.kernel.accessAllowed ? 'block' : 'none';\n",
              "    })();\n",
              "  </script>\n",
              "</div>\n",
              "    </div>\n",
              "  </div>\n"
            ]
          },
          "metadata": {},
          "execution_count": 10
        }
      ],
      "source": [
        "and_table"
      ]
    },
    {
      "cell_type": "code",
      "execution_count": null,
      "id": "b020b2b3",
      "metadata": {
        "id": "b020b2b3"
      },
      "outputs": [],
      "source": [
        "# Define a step_function\n",
        "def step_function(x):\n",
        "      # Check if the input is greater than 0\n",
        "  if x>0:\n",
        "            # If x is positive, return 1\n",
        "    return 1\n",
        "  else:# If x is non-positive, return 0\n",
        "\n",
        "    return 0"
      ]
    },
    {
      "cell_type": "code",
      "execution_count": null,
      "id": "2d71878c",
      "metadata": {
        "id": "2d71878c"
      },
      "outputs": [],
      "source": [
        "# Define a bioploar_function\n",
        "def bipolar_function(x):\n",
        "        # Check if the input is greater than 0\n",
        "  if x>0:\n",
        "    return 1  # If x is positive, return 1\n",
        "  elif x == 0:\n",
        "    return 0 # If x is zero, return 0\n",
        "  else:\n",
        "    return -1 # If x is non-positive, return -1"
      ]
    },
    {
      "cell_type": "code",
      "execution_count": null,
      "id": "e7043fcc",
      "metadata": {
        "id": "e7043fcc"
      },
      "outputs": [],
      "source": [
        "# Define a sigmoid function\n",
        "def sigmoid_function(x):\n",
        "  return (1/(1+(math.e**-x)))"
      ]
    },
    {
      "cell_type": "code",
      "execution_count": null,
      "id": "0cfda820",
      "metadata": {
        "id": "0cfda820"
      },
      "outputs": [],
      "source": [
        "# Define a Rectified Linear Unit (ReLU) activation function\n",
        "def relu(x):\n",
        "    # Check if the input is greater than 0\n",
        "    if x > 0:\n",
        "        # If x is positive, return x\n",
        "        return x\n",
        "    else:\n",
        "        # If x is non-positive, return 0\n",
        "        return 0"
      ]
    },
    {
      "cell_type": "code",
      "execution_count": null,
      "id": "0ffa7c08",
      "metadata": {
        "id": "0ffa7c08"
      },
      "outputs": [],
      "source": [
        "# Define a summation_unit\n",
        "def summation_unit(x1,x2,w0,w1,w2):\n",
        "  return (w0)+(x1*w1)+(x2*w2)"
      ]
    },
    {
      "cell_type": "code",
      "execution_count": null,
      "id": "0279f92c",
      "metadata": {
        "id": "0279f92c"
      },
      "outputs": [],
      "source": [
        "# Define a summation_data\n",
        "def summation_data(x0,x1,x2,w0,w1,w2):\n",
        "  return (x0*w0)+(x1*w1)+(x2*w2)"
      ]
    },
    {
      "cell_type": "markdown",
      "id": "ed793b87",
      "metadata": {
        "id": "ed793b87"
      },
      "source": [
        "# A1. Develop the above perceptron in your own code (don’t use the perceptron model available from package). Use the initial weights as provided below. W0 = 10, W1 = 0.2, w2 = -0.75, learning rate (α) = 0.05\n"
      ]
    },
    {
      "cell_type": "code",
      "execution_count": null,
      "id": "556e4964",
      "metadata": {
        "colab": {
          "base_uri": "https://localhost:8080/",
          "height": 646
        },
        "id": "556e4964",
        "outputId": "aa6e7aa6-165a-416a-f0bd-4ec1138eea89"
      },
      "outputs": [
        {
          "output_type": "stream",
          "name": "stdout",
          "text": [
            "Converged after epoch count: 18\n"
          ]
        },
        {
          "output_type": "display_data",
          "data": {
            "text/plain": [
              "<Figure size 640x480 with 1 Axes>"
            ],
            "image/png": "[encoded data removed]"
          },
          "metadata": {}
        },
        {
          "output_type": "stream",
          "name": "stdout",
          "text": [
            "Final weights ==> w0: -1.5  w1: 1.2  w2: 0.75\n",
            "Calculated Output: 0\n",
            "Real Output: 0\n",
            "Calculated Output: 0\n",
            "Real Output: 0\n",
            "Calculated Output: 0\n",
            "Real Output: 0\n",
            "Calculated Output: 1\n",
            "Real Output: 1\n"
          ]
        }
      ],
      "source": [
        "# Initial weights and learning rate\n",
        "w0 = 10\n",
        "w1 = 0.2\n",
        "w2 = -0.75\n",
        "learning_rate = 0.5\n",
        "\n",
        "# Initialize counters and lists to track epoch and error values\n",
        "epoch_count = 0\n",
        "epochs = []\n",
        "sum_square_error = []\n",
        "\n",
        "# Training loop with a maximum of 100 epochs\n",
        "while epoch_count < 100:\n",
        "    error = 0\n",
        "\n",
        "    # Loop through the AND gate data\n",
        "    for index, row in and_table.iterrows():\n",
        "        # Calculate the weighted sum (summation unit)\n",
        "        weighted_sum = row['A'] * w1 + row['B'] * w2 + w0\n",
        "\n",
        "        # Define a step function (you can replace this with the desired activation function)\n",
        "        def step_function(x):\n",
        "            return 1 if x >= 0 else 0\n",
        "\n",
        "        # Calculate the predicted output using the step function\n",
        "        predicted_output = step_function(weighted_sum)\n",
        "\n",
        "        # Calculate the error\n",
        "        e = row['Z'] - predicted_output\n",
        "\n",
        "        # Update weights using the perceptron learning rule\n",
        "        w0 += learning_rate * e\n",
        "        w1 += learning_rate * e * row['A']\n",
        "        w2 += learning_rate * e * row['B']\n",
        "\n",
        "        # Accumulate the error for this epoch\n",
        "        error += e ** 2\n",
        "\n",
        "    # Record epoch and error values\n",
        "    epochs.append(epoch_count)\n",
        "    sum_square_error.append(error)\n",
        "\n",
        "    # Check for convergence (error threshold of 0.002)\n",
        "    if error < 0.002:\n",
        "        print(\"Converged after epoch count:\", epoch_count)\n",
        "        break\n",
        "\n",
        "    # Increment the epoch count\n",
        "    epoch_count += 1\n",
        "\n",
        "# Plot epochs vs. sum-square error\n",
        "plt.plot(epochs, sum_square_error)\n",
        "plt.xlabel('Epochs')\n",
        "plt.ylabel('Sum-Square Error')\n",
        "plt.title('Epochs vs. Sum-Square Error')\n",
        "plt.grid()\n",
        "plt.show()\n",
        "\n",
        "# Print the final learned weights\n",
        "print(\"Final weights ==> w0:\", w0, \" w1:\", w1, \" w2:\", w2)\n",
        "\n",
        "# Test the perceptron with AND gate inputs and print calculated and real outputs\n",
        "for index, row in and_table.iterrows():\n",
        "    calculated_output = step_function(row['A'] * w1 + row['B'] * w2 + w0)\n",
        "    print(\"Calculated Output:\", calculated_output)\n",
        "    print(\"Real Output:\", row[''])\n"
      ]
    },
    {
      "cell_type": "markdown",
      "id": "9a19bea9",
      "metadata": {
        "id": "9a19bea9"
      },
      "source": [
        "# A2. Repeat the above A1 experiment with following activation functions. Compare the iterations taken to converge against each of the activation functions. Keep the learning rate same as A1."
      ]
    },
    {
      "cell_type": "markdown",
      "id": "698226dc",
      "metadata": {
        "id": "698226dc"
      },
      "source": [
        "# Bipolar function"
      ]
    },
    {
      "cell_type": "code",
      "execution_count": null,
      "id": "e9261a5a",
      "metadata": {
        "colab": {
          "base_uri": "https://localhost:8080/",
          "height": 628
        },
        "id": "e9261a5a",
        "outputId": "22db7074-e97b-4aec-e74f-b0bebef8b635"
      },
      "outputs": [
        {
          "output_type": "display_data",
          "data": {
            "text/plain": [
              "<Figure size 640x480 with 1 Axes>"
            ],
            "image/png": "[encoded data removed]"
          },
          "metadata": {}
        },
        {
          "output_type": "stream",
          "name": "stdout",
          "text": [
            "Final weights ==> w0: -1.0  w1: 1.2  w2: 1.25\n",
            "Calculated Output: -1\n",
            "Real Output: 0\n",
            "Calculated Output: 1\n",
            "Real Output: 0\n",
            "Calculated Output: 1\n",
            "Real Output: 0\n",
            "Calculated Output: 1\n",
            "Real Output: 1\n"
          ]
        }
      ],
      "source": [
        "# Initial weights and learning rate\n",
        "w0 = 10\n",
        "w1 = 0.2\n",
        "w2 = -0.75\n",
        "learning_rate = 0.5\n",
        "\n",
        "# Initialize counters and lists to track epoch and error values\n",
        "epoch_count = 0\n",
        "epochs = []\n",
        "sum_square_error = []\n",
        "\n",
        "# Training loop with a maximum of 1000 epochs\n",
        "while epoch_count < 1000:\n",
        "    error = 0\n",
        "\n",
        "    # Loop through the AND gate data\n",
        "    for index, row in and_table.iterrows():\n",
        "        # Calculate the weighted sum (summation unit)\n",
        "        weighted_sum = row['A'] * w1 + row['B'] * w2 + w0\n",
        "\n",
        "        # Define a bipolar step function (you can replace this with the desired activation function)\n",
        "        def bipolar_function(x):\n",
        "            return -1 if x < 0 else 1\n",
        "\n",
        "        # Calculate the predicted output using the bipolar step function\n",
        "        predicted_output = bipolar_function(weighted_sum)\n",
        "\n",
        "        # Calculate the error\n",
        "        e = row['Z'] - predicted_output\n",
        "\n",
        "        # Update weights using the perceptron learning rule\n",
        "        w0 += learning_rate * e\n",
        "        w1 += learning_rate * e * row['A']\n",
        "        w2 += learning_rate * e * row['B']\n",
        "\n",
        "        # Accumulate the error for this epoch\n",
        "        error += e ** 2\n",
        "\n",
        "    # Record epoch and error values\n",
        "    epochs.append(epoch_count)\n",
        "    sum_square_error.append(error)\n",
        "\n",
        "    # Check for convergence (error threshold of 0.002)\n",
        "    if error < 0.002:\n",
        "        print(\"Converged after epoch count:\", epoch_count)\n",
        "        break\n",
        "\n",
        "    # Increment the epoch count\n",
        "    epoch_count += 1\n",
        "\n",
        "# Plot epochs vs. sum-square error\n",
        "plt.plot(epochs, sum_square_error)\n",
        "plt.xlabel('Epochs')\n",
        "plt.ylabel('Sum-Square Error')\n",
        "plt.title('Epochs vs. Sum-Square Error')\n",
        "plt.grid()\n",
        "plt.show()\n",
        "\n",
        "# Print the final learned weights\n",
        "print(\"Final weights ==> w0:\", w0, \" w1:\", w1, \" w2:\", w2)\n",
        "\n",
        "# Test the perceptron with AND gate inputs and print calculated and real outputs\n",
        "for index, row in and_table.iterrows():\n",
        "    calculated_output = bipolar_function(row['A'] * w1 + row['B'] * w2 + w0)\n",
        "    print(\"Calculated Output:\", calculated_output)\n",
        "    print(\"Real Output:\", row['Z'])\n"
      ]
    },
    {
      "cell_type": "markdown",
      "id": "a8883588",
      "metadata": {
        "id": "a8883588"
      },
      "source": [
        "# Sigmoid function\n"
      ]
    },
    {
      "cell_type": "code",
      "execution_count": null,
      "id": "b0befdd5",
      "metadata": {
        "colab": {
          "base_uri": "https://localhost:8080/",
          "height": 646
        },
        "id": "b0befdd5",
        "outputId": "681885ef-c533-405b-e477-02fa36136b9f"
      },
      "outputs": [
        {
          "output_type": "stream",
          "name": "stdout",
          "text": [
            "Converged after epoch count: 451\n"
          ]
        },
        {
          "output_type": "display_data",
          "data": {
            "text/plain": [
              "<Figure size 640x480 with 1 Axes>"
            ],
            "image/png": "[encoded data removed]"
          },
          "metadata": {}
        },
        {
          "output_type": "stream",
          "name": "stdout",
          "text": [
            "Final weights ==> w0: -11.01406446456043  w1: 7.251651917633865  w2: 7.237613596313013\n",
            "Calculated Output: 1.646817326382425e-05\n",
            "Real Output: 0\n",
            "Calculated Output: 0.022390996364954657\n",
            "Real Output: 0\n",
            "Calculated Output: 0.022700359304807006\n",
            "Real Output: 0\n",
            "Calculated Output: 0.969973867639686\n",
            "Real Output: 1\n"
          ]
        }
      ],
      "source": [
        "# Initial weights and learning rate\n",
        "w0 = 10\n",
        "w1 = 0.2\n",
        "w2 = -0.75\n",
        "learning_rate = 0.5\n",
        "\n",
        "# Initialize counters and lists to track epoch and error values\n",
        "epoch_count = 0\n",
        "epochs = []\n",
        "sum_square_error = []\n",
        "\n",
        "# Training loop with a maximum of 1000 epochs\n",
        "while epoch_count < 1000:\n",
        "    error = 0\n",
        "\n",
        "    # Loop through the AND gate data\n",
        "    for index, row in and_table.iterrows():\n",
        "        # Calculate the weighted sum (summation unit)\n",
        "        weighted_sum = row['A'] * w1 + row['B'] * w2 + w0\n",
        "\n",
        "        # Define a sigmoid function (you can replace this with the desired activation function)\n",
        "        def sigmoid_function(x):\n",
        "            return 1 / (1 + np.exp(-x))\n",
        "\n",
        "        # Calculate the predicted output using the sigmoid function\n",
        "        predicted_output = sigmoid_function(weighted_sum)\n",
        "\n",
        "        # Calculate the error\n",
        "        e = row['Z'] - predicted_output\n",
        "\n",
        "        # Update weights using the perceptron learning rule\n",
        "        w0 += learning_rate * e\n",
        "        w1 += learning_rate * e * row['A']\n",
        "        w2 += learning_rate * e * row['B']\n",
        "\n",
        "        # Accumulate the error for this epoch\n",
        "        error += e ** 2\n",
        "\n",
        "    # Record epoch and error values\n",
        "    epochs.append(epoch_count)\n",
        "    sum_square_error.append(error)\n",
        "\n",
        "    # Check for convergence (error threshold of 0.002)\n",
        "    if error < 0.002:\n",
        "        print(\"Converged after epoch count:\", epoch_count)\n",
        "        break\n",
        "\n",
        "    # Increment the epoch count\n",
        "    epoch_count += 1\n",
        "\n",
        "# Plot epochs vs. sum-square error\n",
        "plt.plot(epochs, sum_square_error)\n",
        "plt.xlabel('Epochs')\n",
        "plt.ylabel('Sum-Square Error')\n",
        "plt.title('Epochs vs. Sum-Square Error')\n",
        "plt.grid()\n",
        "plt.show()\n",
        "\n",
        "# Print the final learned weights\n",
        "print(\"Final weights ==> w0:\", w0, \" w1:\", w1, \" w2:\", w2)\n",
        "\n",
        "# Test the perceptron with AND gate inputs and print calculated and real outputs\n",
        "for index, row in and_table.iterrows():\n",
        "    calculated_output = sigmoid_function(row['A'] * w1 + row['B'] * w2 + w0)\n",
        "    print(\"Calculated Output:\", calculated_output)\n",
        "    print(\"Real Output:\", row['Z'])\n"
      ]
    },
    {
      "cell_type": "markdown",
      "id": "b55b874f",
      "metadata": {
        "id": "b55b874f"
      },
      "source": [
        "# ReLU function\n"
      ]
    },
    {
      "cell_type": "code",
      "execution_count": null,
      "id": "7cfe75f7",
      "metadata": {
        "colab": {
          "base_uri": "https://localhost:8080/",
          "height": 646
        },
        "id": "7cfe75f7",
        "outputId": "f7660150-6ed0-4dc1-afd7-5fab16a63d90"
      },
      "outputs": [
        {
          "output_type": "stream",
          "name": "stdout",
          "text": [
            "Converged after epoch count: 20\n"
          ]
        },
        {
          "output_type": "display_data",
          "data": {
            "text/plain": [
              "<Figure size 640x480 with 1 Axes>"
            ],
            "image/png": "[encoded data removed]"
          },
          "metadata": {}
        },
        {
          "output_type": "stream",
          "name": "stdout",
          "text": [
            "Final weights ==> w0: -0.9744791024733842  w1: 0.9999852734617888  w2: 0.9872469145057977\n",
            "calculated output :  0\n",
            "Real Output: 0\n",
            "calculated output :  0.012767812032413506\n",
            "Real Output: 0\n",
            "calculated output :  0.025506170988404575\n",
            "Real Output: 0\n",
            "calculated output :  1.0127530854942024\n",
            "Real Output: 1\n"
          ]
        }
      ],
      "source": [
        "# Initial weights and learning rate\n",
        "w0 = 10\n",
        "w1 = 0.2\n",
        "w2 = -0.75\n",
        "learning_rate = 0.5\n",
        "\n",
        "# Initialize counters and lists to track epoch and error values\n",
        "epoch_count = 0\n",
        "epochs = []\n",
        "sum_square_error = []\n",
        "\n",
        "# Training loop with a maximum of 1000 epochs\n",
        "while epoch_count < 1000:\n",
        "    error = 0\n",
        "\n",
        "    # Loop through the AND gate data\n",
        "    for index, row in and_table.iterrows():\n",
        "        # Calculate the weighted sum (summation unit)\n",
        "        weighted_sum = row['A'] * w1 + row['B'] * w2 + w0\n",
        "\n",
        "        # Define a ReLU function (you can replace this with the desired activation function)\n",
        "        def relu(x):\n",
        "            return max(0, x)\n",
        "\n",
        "        # Calculate the predicted output using the ReLU function\n",
        "        predicted_output = relu(weighted_sum)\n",
        "\n",
        "        # Calculate the error\n",
        "        e = row['Z'] - predicted_output\n",
        "\n",
        "        # Update weights using the perceptron learning rule\n",
        "        w0 += learning_rate * e\n",
        "        w1 += learning_rate * e * row['A']\n",
        "        w2 += learning_rate * e * row['B']\n",
        "\n",
        "        # Accumulate the error for this epoch\n",
        "        error += e ** 2\n",
        "\n",
        "    # Record epoch and error values\n",
        "    epochs.append(epoch_count)\n",
        "    sum_square_error.append(error)\n",
        "\n",
        "    # Check for convergence (error threshold of 0.002)\n",
        "    if error < 0.002:\n",
        "        print(\"Converged after epoch count:\", epoch_count)\n",
        "        break\n",
        "\n",
        "    # Increment the epoch count\n",
        "    epoch_count += 1\n",
        "\n",
        "# Plot epochs vs. sum-square error\n",
        "plt.plot(epochs, sum_square_error)\n",
        "plt.xlabel('Epochs')\n",
        "plt.ylabel('Sum-Square Error')\n",
        "plt.title('Epochs vs. Sum-Square Error')\n",
        "plt.grid()\n",
        "plt.show()\n",
        "\n",
        "# Print the final learned weights\n",
        "print(\"Final weights ==> w0:\", w0, \" w1:\", w1, \" w2:\", w2)\n",
        "\n",
        "# Test the perceptron with AND gate inputs and print real outputs\n",
        "for index, row in and_table.iterrows():\n",
        "    print(\"calculated output : \",relu(summation_unit(row['A'],row['B'],w0,w1,w2)))\n",
        "    print(\"Real Output:\", row['Z'])\n"
      ]
    },
    {
      "cell_type": "markdown",
      "id": "b5555e94",
      "metadata": {
        "id": "b5555e94"
      },
      "source": [
        "# A3. Repeat exercise A1 with varying the learning rate, keeping the initial weights same. Take learning rate = {0.1, 0.2, 0.3, 0.4, 0.5, 0.6, 0.7, 0.8, 0.9, 1}. Make a plot of the number of iterations taken for learning to converge against the learning rates."
      ]
    },
    {
      "cell_type": "code",
      "execution_count": null,
      "id": "ea50ac3b",
      "metadata": {
        "colab": {
          "base_uri": "https://localhost:8080/",
          "height": 472
        },
        "id": "ea50ac3b",
        "outputId": "c039a633-9ba1-4c46-f580-8a3e9b31c40b"
      },
      "outputs": [
        {
          "output_type": "display_data",
          "data": {
            "text/plain": [
              "<Figure size 640x480 with 1 Axes>"
            ],
            "image/png": "[encoded data removed]"
          },
          "metadata": {}
        }
      ],
      "source": [
        "import numpy as np\n",
        "import matplotlib.pyplot as plt\n",
        "\n",
        "# List of learning rates to experiment with\n",
        "learning_rates = [0.1, 0.2, 0.3, 0.4, 0.5, 0.6, 0.7, 0.8, 0.9, 1]\n",
        "\n",
        "# Initialize a list to store the number of epochs needed for convergence for each learning rate\n",
        "number_of_epochs_needed = []\n",
        "\n",
        "for learning_rate in learning_rates:\n",
        "    # Initialize weights\n",
        "    w0 = 10\n",
        "    w1 = 0.2\n",
        "    w2 = -0.75\n",
        "\n",
        "    # Initialize epoch count and lists to track epoch and error values\n",
        "    epoch_count = 0\n",
        "    epochs = []\n",
        "    sum_square_errors = []\n",
        "\n",
        "    # Maximum number of epochs for training (in case it doesn't converge)\n",
        "    max_epochs = 100\n",
        "\n",
        "    while epoch_count < max_epochs:\n",
        "        error = 0\n",
        "\n",
        "        # Loop through the AND gate data\n",
        "        for index, row in and_table.iterrows():\n",
        "            # Calculate the weighted sum (summation unit)\n",
        "            weighted_sum = row['A'] * w1 + row['B'] * w2 + w0\n",
        "\n",
        "            # Define a step function (you can replace this with the desired activation function)\n",
        "            def step_function(x):\n",
        "                return 1 if x >= 0 else 0\n",
        "\n",
        "            # Calculate the predicted output using the step function\n",
        "            predicted_output = step_function(weighted_sum)\n",
        "\n",
        "            # Calculate the error\n",
        "            e = row['Z'] - predicted_output\n",
        "\n",
        "            # Update weights\n",
        "            w0 += learning_rate * e\n",
        "            w1 += learning_rate * e * row['A']\n",
        "            w2 += learning_rate * e * row['B']\n",
        "\n",
        "            # Accumulate the error for this epoch\n",
        "            error += e ** 2\n",
        "\n",
        "        # Record epoch and error values\n",
        "        epochs.append(epoch_count)\n",
        "        sum_square_errors.append(error)\n",
        "\n",
        "        # Check for convergence (error threshold of 0.002)\n",
        "        if error < 0.002:\n",
        "            number_of_epochs_needed.append(epoch_count)\n",
        "            break\n",
        "\n",
        "        # Increment the epoch count\n",
        "        epoch_count += 1\n",
        "\n",
        "# Plot learning rates vs. number of epochs needed for convergence\n",
        "plt.plot(learning_rates, number_of_epochs_needed, marker='o')\n",
        "plt.xlabel('Learning Rate')\n",
        "plt.ylabel('Number of Epochs Needed')\n",
        "plt.title('Learning Rate vs. Number of Epochs Needed for Convergence')\n",
        "plt.grid()\n",
        "plt.show()\n"
      ]
    },
    {
      "cell_type": "markdown",
      "id": "21185805",
      "metadata": {
        "id": "21185805"
      },
      "source": [
        "# A4. Repeat the above exercises, A1 to A3, for XOR gate logic."
      ]
    },
    {
      "cell_type": "code",
      "execution_count": 11,
      "id": "96e84f3a",
      "metadata": {
        "id": "96e84f3a"
      },
      "outputs": [],
      "source": [
        "Xor = [[0,0,0],[0,1,1],[1,0,1],[1,1,0]]\n",
        "xor_table = pd.DataFrame(Xor,columns=['A','B','Z'])"
      ]
    },
    {
      "cell_type": "code",
      "execution_count": 12,
      "id": "232171e3",
      "metadata": {
        "colab": {
          "base_uri": "https://localhost:8080/",
          "height": 175
        },
        "id": "232171e3",
        "outputId": "a2df1083-1486-4bf0-8130-3f98870e65b6"
      },
      "outputs": [
        {
          "output_type": "execute_result",
          "data": {
            "text/plain": [
              "   A  B  Z\n",
              "0  0  0  0\n",
              "1  0  1  1\n",
              "2  1  0  1\n",
              "3  1  1  0"
            ],
            "text/html": [
              "\n",
              "  <div id=\"df-5e17fd20-18ba-4cb1-a9da-0f0731164acb\" class=\"colab-df-container\">\n",
              "    <div>\n",
              "<style scoped>\n",
              "    .dataframe tbody tr th:only-of-type {\n",
              "        vertical-align: middle;\n",
              "    }\n",
              "\n",
              "    .dataframe tbody tr th {\n",
              "        vertical-align: top;\n",
              "    }\n",
              "\n",
              "    .dataframe thead th {\n",
              "        text-align: right;\n",
              "    }\n",
              "</style>\n",
              "<table border=\"1\" class=\"dataframe\">\n",
              "  <thead>\n",
              "    <tr style=\"text-align: right;\">\n",
              "      <th></th>\n",
              "      <th>A</th>\n",
              "      <th>B</th>\n",
              "      <th>Z</th>\n",
              "    </tr>\n",
              "  </thead>\n",
              "  <tbody>\n",
              "    <tr>\n",
              "      <th>0</th>\n",
              "      <td>0</td>\n",
              "      <td>0</td>\n",
              "      <td>0</td>\n",
              "    </tr>\n",
              "    <tr>\n",
              "      <th>1</th>\n",
              "      <td>0</td>\n",
              "      <td>1</td>\n",
              "      <td>1</td>\n",
              "    </tr>\n",
              "    <tr>\n",
              "      <th>2</th>\n",
              "      <td>1</td>\n",
              "      <td>0</td>\n",
              "      <td>1</td>\n",
              "    </tr>\n",
              "    <tr>\n",
              "      <th>3</th>\n",
              "      <td>1</td>\n",
              "      <td>1</td>\n",
              "      <td>0</td>\n",
              "    </tr>\n",
              "  </tbody>\n",
              "</table>\n",
              "</div>\n",
              "    <div class=\"colab-df-buttons\">\n",
              "\n",
              "  <div class=\"colab-df-container\">\n",
              "    <button class=\"colab-df-convert\" onclick=\"convertToInteractive('df-5e17fd20-18ba-4cb1-a9da-0f0731164acb')\"\n",
              "            title=\"Convert this dataframe to an interactive table.\"\n",
              "            style=\"display:none;\">\n",
              "\n",
              "  <svg xmlns=\"http://www.w3.org/2000/svg\" height=\"24px\" viewBox=\"0 -960 960 960\">\n",
              "    <path d=\"M120-120v-720h720v720H120Zm60-500h600v-160H180v160Zm220 220h160v-160H400v160Zm0 220h160v-160H400v160ZM180-400h160v-160H180v160Zm440 0h160v-160H620v160ZM180-180h160v-160H180v160Zm440 0h160v-160H620v160Z\"/>\n",
              "  </svg>\n",
              "    </button>\n",
              "\n",
              "  <style>\n",
              "    .colab-df-container {\n",
              "      display:flex;\n",
              "      gap: 12px;\n",
              "    }\n",
              "\n",
              "    .colab-df-convert {\n",
              "      background-color: #E8F0FE;\n",
              "      border: none;\n",
              "      border-radius: 50%;\n",
              "      cursor: pointer;\n",
              "      display: none;\n",
              "      fill: #1967D2;\n",
              "      height: 32px;\n",
              "      padding: 0 0 0 0;\n",
              "      width: 32px;\n",
              "    }\n",
              "\n",
              "    .colab-df-convert:hover {\n",
              "      background-color: #E2EBFA;\n",
              "      box-shadow: 0px 1px 2px rgba(60, 64, 67, 0.3), 0px 1px 3px 1px rgba(60, 64, 67, 0.15);\n",
              "      fill: #174EA6;\n",
              "    }\n",
              "\n",
              "    .colab-df-buttons div {\n",
              "      margin-bottom: 4px;\n",
              "    }\n",
              "\n",
              "    [theme=dark] .colab-df-convert {\n",
              "      background-color: #3B4455;\n",
              "      fill: #D2E3FC;\n",
              "    }\n",
              "\n",
              "    [theme=dark] .colab-df-convert:hover {\n",
              "      background-color: #434B5C;\n",
              "      box-shadow: 0px 1px 3px 1px rgba(0, 0, 0, 0.15);\n",
              "      filter: drop-shadow(0px 1px 2px rgba(0, 0, 0, 0.3));\n",
              "      fill: #FFFFFF;\n",
              "    }\n",
              "  </style>\n",
              "\n",
              "    <script>\n",
              "      const buttonEl =\n",
              "        document.querySelector('#df-5e17fd20-18ba-4cb1-a9da-0f0731164acb button.colab-df-convert');\n",
              "      buttonEl.style.display =\n",
              "        google.colab.kernel.accessAllowed ? 'block' : 'none';\n",
              "\n",
              "      async function convertToInteractive(key) {\n",
              "        const element = document.querySelector('#df-5e17fd20-18ba-4cb1-a9da-0f0731164acb');\n",
              "        const dataTable =\n",
              "          await google.colab.kernel.invokeFunction('convertToInteractive',\n",
              "                                                    [key], {});\n",
              "        if (!dataTable) return;\n",
              "\n",
              "        const docLinkHtml = 'Like what you see? Visit the ' +\n",
              "          '<a target=\"_blank\" href=https://colab.research.google.com/notebooks/data_table.ipynb>data table notebook</a>'\n",
              "          + ' to learn more about interactive tables.';\n",
              "        element.innerHTML = '';\n",
              "        dataTable['output_type'] = 'display_data';\n",
              "        await google.colab.output.renderOutput(dataTable, element);\n",
              "        const docLink = document.createElement('div');\n",
              "        docLink.innerHTML = docLinkHtml;\n",
              "        element.appendChild(docLink);\n",
              "      }\n",
              "    </script>\n",
              "  </div>\n",
              "\n",
              "\n",
              "<div id=\"df-f64cd21a-2a0a-4819-be3f-fcaf30dafd52\">\n",
              "  <button class=\"colab-df-quickchart\" onclick=\"quickchart('df-f64cd21a-2a0a-4819-be3f-fcaf30dafd52')\"\n",
              "            title=\"Suggest charts.\"\n",
              "            style=\"display:none;\">\n",
              "\n",
              "<svg xmlns=\"http://www.w3.org/2000/svg\" height=\"24px\"viewBox=\"0 0 24 24\"\n",
              "     width=\"24px\">\n",
              "    <g>\n",
              "        <path d=\"M19 3H5c-1.1 0-2 .9-2 2v14c0 1.1.9 2 2 2h14c1.1 0 2-.9 2-2V5c0-1.1-.9-2-2-2zM9 17H7v-7h2v7zm4 0h-2V7h2v10zm4 0h-2v-4h2v4z\"/>\n",
              "    </g>\n",
              "</svg>\n",
              "  </button>\n",
              "\n",
              "<style>\n",
              "  .colab-df-quickchart {\n",
              "      --bg-color: #E8F0FE;\n",
              "      --fill-color: #1967D2;\n",
              "      --hover-bg-color: #E2EBFA;\n",
              "      --hover-fill-color: #174EA6;\n",
              "      --disabled-fill-color: #AAA;\n",
              "      --disabled-bg-color: #DDD;\n",
              "  }\n",
              "\n",
              "  [theme=dark] .colab-df-quickchart {\n",
              "      --bg-color: #3B4455;\n",
              "      --fill-color: #D2E3FC;\n",
              "      --hover-bg-color: #434B5C;\n",
              "      --hover-fill-color: #FFFFFF;\n",
              "      --disabled-bg-color: #3B4455;\n",
              "      --disabled-fill-color: #666;\n",
              "  }\n",
              "\n",
              "  .colab-df-quickchart {\n",
              "    background-color: var(--bg-color);\n",
              "    border: none;\n",
              "    border-radius: 50%;\n",
              "    cursor: pointer;\n",
              "    display: none;\n",
              "    fill: var(--fill-color);\n",
              "    height: 32px;\n",
              "    padding: 0;\n",
              "    width: 32px;\n",
              "  }\n",
              "\n",
              "  .colab-df-quickchart:hover {\n",
              "    background-color: var(--hover-bg-color);\n",
              "    box-shadow: 0 1px 2px rgba(60, 64, 67, 0.3), 0 1px 3px 1px rgba(60, 64, 67, 0.15);\n",
              "    fill: var(--button-hover-fill-color);\n",
              "  }\n",
              "\n",
              "  .colab-df-quickchart-complete:disabled,\n",
              "  .colab-df-quickchart-complete:disabled:hover {\n",
              "    background-color: var(--disabled-bg-color);\n",
              "    fill: var(--disabled-fill-color);\n",
              "    box-shadow: none;\n",
              "  }\n",
              "\n",
              "  .colab-df-spinner {\n",
              "    border: 2px solid var(--fill-color);\n",
              "    border-color: transparent;\n",
              "    border-bottom-color: var(--fill-color);\n",
              "    animation:\n",
              "      spin 1s steps(1) infinite;\n",
              "  }\n",
              "\n",
              "  @keyframes spin {\n",
              "    0% {\n",
              "      border-color: transparent;\n",
              "      border-bottom-color: var(--fill-color);\n",
              "      border-left-color: var(--fill-color);\n",
              "    }\n",
              "    20% {\n",
              "      border-color: transparent;\n",
              "      border-left-color: var(--fill-color);\n",
              "      border-top-color: var(--fill-color);\n",
              "    }\n",
              "    30% {\n",
              "      border-color: transparent;\n",
              "      border-left-color: var(--fill-color);\n",
              "      border-top-color: var(--fill-color);\n",
              "      border-right-color: var(--fill-color);\n",
              "    }\n",
              "    40% {\n",
              "      border-color: transparent;\n",
              "      border-right-color: var(--fill-color);\n",
              "      border-top-color: var(--fill-color);\n",
              "    }\n",
              "    60% {\n",
              "      border-color: transparent;\n",
              "      border-right-color: var(--fill-color);\n",
              "    }\n",
              "    80% {\n",
              "      border-color: transparent;\n",
              "      border-right-color: var(--fill-color);\n",
              "      border-bottom-color: var(--fill-color);\n",
              "    }\n",
              "    90% {\n",
              "      border-color: transparent;\n",
              "      border-bottom-color: var(--fill-color);\n",
              "    }\n",
              "  }\n",
              "</style>\n",
              "\n",
              "  <script>\n",
              "    async function quickchart(key) {\n",
              "      const quickchartButtonEl =\n",
              "        document.querySelector('#' + key + ' button');\n",
              "      quickchartButtonEl.disabled = true;  // To prevent multiple clicks.\n",
              "      quickchartButtonEl.classList.add('colab-df-spinner');\n",
              "      try {\n",
              "        const charts = await google.colab.kernel.invokeFunction(\n",
              "            'suggestCharts', [key], {});\n",
              "      } catch (error) {\n",
              "        console.error('Error during call to suggestCharts:', error);\n",
              "      }\n",
              "      quickchartButtonEl.classList.remove('colab-df-spinner');\n",
              "      quickchartButtonEl.classList.add('colab-df-quickchart-complete');\n",
              "    }\n",
              "    (() => {\n",
              "      let quickchartButtonEl =\n",
              "        document.querySelector('#df-f64cd21a-2a0a-4819-be3f-fcaf30dafd52 button');\n",
              "      quickchartButtonEl.style.display =\n",
              "        google.colab.kernel.accessAllowed ? 'block' : 'none';\n",
              "    })();\n",
              "  </script>\n",
              "</div>\n",
              "    </div>\n",
              "  </div>\n"
            ]
          },
          "metadata": {},
          "execution_count": 12
        }
      ],
      "source": [
        "xor_table #printing XOR_table"
      ]
    },
    {
      "cell_type": "markdown",
      "id": "17152784",
      "metadata": {
        "id": "17152784"
      },
      "source": [
        "# A1 for xor_gate\n"
      ]
    },
    {
      "cell_type": "code",
      "execution_count": 13,
      "id": "2daab8bb",
      "metadata": {
        "colab": {
          "base_uri": "https://localhost:8080/",
          "height": 628
        },
        "id": "2daab8bb",
        "outputId": "6f05d0c3-b0e9-487f-f368-9cf5ad384a0d"
      },
      "outputs": [
        {
          "output_type": "display_data",
          "data": {
            "text/plain": [
              "<Figure size 640x480 with 1 Axes>"
            ],
            "image/png": "[encoded data removed]"
          },
          "metadata": {}
        },
        {
          "output_type": "stream",
          "name": "stdout",
          "text": [
            "Final weights ==> w0: 0.0  w1: -0.5  w2: 0.0\n",
            "Calculated Output: 1\n",
            "Real Output: 0\n",
            "Calculated Output: 1\n",
            "Real Output: 1\n",
            "Calculated Output: 0\n",
            "Real Output: 1\n",
            "Calculated Output: 0\n",
            "Real Output: 0\n"
          ]
        }
      ],
      "source": [
        "# Initial weights and learning rate\n",
        "w0 = 1\n",
        "w1 = 1\n",
        "w2 = 1\n",
        "learning_rate = 0.5\n",
        "\n",
        "# Initialize counters and lists to track epoch and error values\n",
        "epoch_count = 0\n",
        "epochs = []\n",
        "sum_square_error = []\n",
        "\n",
        "# Training loop with a maximum of 10,000 epochs\n",
        "while epoch_count < 10000:\n",
        "    error = 0\n",
        "\n",
        "    # Loop through the XOR gate data\n",
        "    for index, row in xor_table.iterrows():\n",
        "        # Calculate the weighted sum (summation unit)\n",
        "        weighted_sum = row['A'] * w1 + row['B'] * w2 + w0\n",
        "\n",
        "        # Define a step function (you can replace this with the desired activation function)\n",
        "        def step_function(x):\n",
        "            return 1 if x >= 0 else 0\n",
        "\n",
        "        # Calculate the predicted output using the step function\n",
        "        predicted_output = step_function(weighted_sum)\n",
        "\n",
        "        # Calculate the error\n",
        "        e = row['Z'] - predicted_output\n",
        "\n",
        "        # Update weights using the perceptron learning rule\n",
        "        w0 += learning_rate * e\n",
        "        w1 += learning_rate * e * row['A']\n",
        "        w2 += learning_rate * e * row['B']\n",
        "\n",
        "        # Accumulate the error for this epoch\n",
        "        error += e ** 2\n",
        "\n",
        "    # Record epoch and error values\n",
        "    epochs.append(epoch_count)\n",
        "    sum_square_error.append(error)\n",
        "\n",
        "    # Check for convergence (error threshold of 0.002)\n",
        "    if error < 0.002:\n",
        "        print(\"Converged after epoch count:\", epoch_count)\n",
        "        break\n",
        "\n",
        "    # Increment the epoch count\n",
        "    epoch_count += 1\n",
        "\n",
        "# Plot epochs vs. sum-square error\n",
        "plt.plot(epochs, sum_square_error)\n",
        "plt.xlabel('Epochs')\n",
        "plt.ylabel('Sum-Square Error')\n",
        "plt.title('Epochs vs. Sum-Square Error')\n",
        "plt.grid()\n",
        "plt.show()\n",
        "\n",
        "# Print the final learned weights\n",
        "print(\"Final weights ==> w0:\", w0, \" w1:\", w1, \" w2:\", w2)\n",
        "\n",
        "# Test the perceptron with XOR gate inputs and print calculated and real outputs\n",
        "for index, row in xor_table.iterrows():\n",
        "    calculated_output = step_function(row['A'] * w1 + row['B'] * w2 + w0)\n",
        "    print(\"Calculated Output:\", calculated_output)\n",
        "    print(\"Real Output:\", row['Z'])\n"
      ]
    },
    {
      "cell_type": "markdown",
      "id": "c7e42a3a",
      "metadata": {
        "id": "c7e42a3a"
      },
      "source": [
        "# A2 for xor_gate"
      ]
    },
    {
      "cell_type": "markdown",
      "id": "c8675676",
      "metadata": {
        "id": "c8675676"
      },
      "source": [
        "# Bi-Polar Step function"
      ]
    },
    {
      "cell_type": "code",
      "execution_count": null,
      "id": "7a92c564",
      "metadata": {
        "colab": {
          "base_uri": "https://localhost:8080/",
          "height": 628
        },
        "id": "7a92c564",
        "outputId": "c4a8f939-b7f4-4054-e136-3493d9307e5f"
      },
      "outputs": [
        {
          "output_type": "display_data",
          "data": {
            "text/plain": [
              "<Figure size 640x480 with 1 Axes>"
            ],
            "image/png": "[encoded data removed]"
          },
          "metadata": {}
        },
        {
          "output_type": "stream",
          "name": "stdout",
          "text": [
            "Final weights ==> w0: 1.0  w1: -0.7999999999999998  w2: -0.75\n",
            "Calculated Output: 1\n",
            "Real Output: 0\n",
            "Calculated Output: 1\n",
            "Real Output: 0\n",
            "Calculated Output: 1\n",
            "Real Output: 0\n",
            "Calculated Output: -1\n",
            "Real Output: 1\n"
          ]
        }
      ],
      "source": [
        "# Initial weights and learning rate\n",
        "w0 = 10\n",
        "w1 = 0.2\n",
        "w2 = -0.75\n",
        "learning_rate = 0.5\n",
        "\n",
        "# Initialize counters and lists to track epoch and error values\n",
        "epoch_count = 0\n",
        "epochs = []\n",
        "sum_square_error = []\n",
        "\n",
        "# Training loop with a maximum of 1000 epochs\n",
        "while epoch_count < 1000:\n",
        "    error = 0\n",
        "\n",
        "    # Loop through the AND gate data\n",
        "    for index, row in xor_table.iterrows():\n",
        "        # Calculate the weighted sum (summation unit)\n",
        "        weighted_sum = row['A'] * w1 + row['B'] * w2 + w0\n",
        "\n",
        "        # Define a bipolar step function (you can replace this with the desired activation function)\n",
        "        def bipolar_function(x):\n",
        "            return -1 if x < 0 else 1\n",
        "\n",
        "        # Calculate the predicted output using the bipolar step function\n",
        "        predicted_output = bipolar_function(weighted_sum)\n",
        "        # Calculate the error\n",
        "        e = row['Z'] - predicted_output\n",
        "\n",
        "        # Update weights using the perceptron learning rule\n",
        "        w0 += learning_rate * e\n",
        "        w1 += learning_rate * e * row['A']\n",
        "        w2 += learning_rate * e * row['B']\n",
        "\n",
        "        # Accumulate the error for this epoch\n",
        "        error += e ** 2\n",
        "\n",
        "    # Record epoch and error values\n",
        "    epochs.append(epoch_count)\n",
        "    sum_square_error.append(error)\n",
        "\n",
        "    # Check for convergence (error threshold of 0.002)\n",
        "    if error < 0.002:\n",
        "        print(\"Converged after epoch count:\", epoch_count)\n",
        "        break\n",
        "\n",
        "    # Increment the epoch count\n",
        "    epoch_count += 1\n",
        "\n",
        "# Plot epochs vs. sum-square error\n",
        "plt.plot(epochs, sum_square_error)\n",
        "plt.xlabel('Epochs')\n",
        "plt.ylabel('Sum-Square Error')\n",
        "plt.title('Epochs vs. Sum-Square Error')\n",
        "plt.grid()\n",
        "plt.show()\n",
        "\n",
        "# Print the final learned weights\n",
        "print(\"Final weights ==> w0:\", w0, \" w1:\", w1, \" w2:\", w2)\n",
        "\n",
        "# Test the perceptron with AND gate inputs and print calculated and real outputs\n",
        "for index, row in and_table.iterrows():\n",
        "    calculated_output = bipolar_function(row['A'] * w1 + row['B'] * w2 + w0)\n",
        "    print(\"Calculated Output:\", calculated_output)\n",
        "    print(\"Real Output:\", row['Z'])\n"
      ]
    },
    {
      "cell_type": "markdown",
      "id": "6040e255",
      "metadata": {
        "id": "6040e255"
      },
      "source": [
        "# Sigmoid function"
      ]
    },
    {
      "cell_type": "code",
      "execution_count": null,
      "id": "5447970f",
      "metadata": {
        "colab": {
          "base_uri": "https://localhost:8080/",
          "height": 628
        },
        "id": "5447970f",
        "outputId": "d1d76c48-9f34-4538-f7df-02de9d8fd71b"
      },
      "outputs": [
        {
          "output_type": "display_data",
          "data": {
            "text/plain": [
              "<Figure size 640x480 with 1 Axes>"
            ],
            "image/png": "[encoded data removed]"
          },
          "metadata": {}
        },
        {
          "output_type": "stream",
          "name": "stdout",
          "text": [
            "Final weights ==> w0: 0.2854396608267673  w1: -0.5708793216535337  w2: -0.28543966082676675\n",
            "Calculated Output: 0.5708793216535331\n",
            "Real Output: 0\n",
            "Calculated Output: 0.5000000000000001\n",
            "Real Output: 0\n",
            "Calculated Output: 0.42912067834646717\n",
            "Real Output: 0\n",
            "Calculated Output: 0.3610339507358464\n",
            "Real Output: 1\n"
          ]
        }
      ],
      "source": [
        "# Initial weights and learning rate\n",
        "w0 = 10\n",
        "w1 = 0.2\n",
        "w2 = -0.75\n",
        "learning_rate = 0.5\n",
        "\n",
        "# Initialize counters and lists to track epoch and error values\n",
        "epoch_count = 0\n",
        "epochs = []\n",
        "sum_square_error = []\n",
        "\n",
        "# Training loop with a maximum of 1000 epochs\n",
        "while epoch_count < 1000:\n",
        "    error = 0\n",
        "\n",
        "    # Loop through the Xor gate data\n",
        "    for index, row in xor_table.iterrows():\n",
        "        # Calculate the weighted sum (summation unit)\n",
        "        weighted_sum = row['A'] * w1 + row['B'] * w2 + w0\n",
        "\n",
        "        # Define a sigmoid function (you can replace this with the desired activation function)\n",
        "        def sigmoid_function(x):\n",
        "            return 1 / (1 + np.exp(-x))\n",
        "\n",
        "        # Calculate the predicted output using the sigmoid function\n",
        "        predicted_output = sigmoid_function(weighted_sum)\n",
        "\n",
        "        # Calculate the error\n",
        "        e = row['Z'] - predicted_output\n",
        "\n",
        "        # Update weights using the perceptron learning rule\n",
        "        w0 += learning_rate * e\n",
        "        w1 += learning_rate * e * row['A']\n",
        "        w2 += learning_rate * e * row['B']\n",
        "\n",
        "        # Accumulate the error for this epoch\n",
        "        error += e ** 2\n",
        "\n",
        "    # Record epoch and error values\n",
        "    epochs.append(epoch_count)\n",
        "    sum_square_error.append(error)\n",
        "\n",
        "    # Check for convergence (error threshold of 0.002)\n",
        "    if error < 0.002:\n",
        "        print(\"Converged after epoch count:\", epoch_count)\n",
        "        break\n",
        "\n",
        "    # Increment the epoch count\n",
        "    epoch_count += 1\n",
        "\n",
        "# Plot epochs vs. sum-square error\n",
        "plt.plot(epochs, sum_square_error)\n",
        "plt.xlabel('Epochs')\n",
        "plt.ylabel('Sum-Square Error')\n",
        "plt.title('Epochs vs. Sum-Square Error')\n",
        "plt.grid()\n",
        "plt.show()\n",
        "\n",
        "# Print the final learned weights\n",
        "print(\"Final weights ==> w0:\", w0, \" w1:\", w1, \" w2:\", w2)\n",
        "\n",
        "# Test the perceptron with AND gate inputs and print calculated and real outputs\n",
        "for index, row in and_table.iterrows():\n",
        "    calculated_output = sigmoid_function(row['A'] * w1 + row['B'] * w2 + w0)\n",
        "    print(\"Calculated Output:\", calculated_output)\n",
        "    print(\"Real Output:\", row['Z'])"
      ]
    },
    {
      "cell_type": "markdown",
      "id": "3cac11b1",
      "metadata": {
        "id": "3cac11b1"
      },
      "source": [
        "# ReLU function"
      ]
    },
    {
      "cell_type": "code",
      "execution_count": null,
      "id": "0ca0803d",
      "metadata": {
        "colab": {
          "base_uri": "https://localhost:8080/",
          "height": 628
        },
        "id": "0ca0803d",
        "outputId": "ddcc4282-c63d-41ca-c756-70c780245a62"
      },
      "outputs": [
        {
          "output_type": "display_data",
          "data": {
            "text/plain": [
              "<Figure size 640x480 with 1 Axes>"
            ],
            "image/png": "[encoded data removed]"
          },
          "metadata": {}
        },
        {
          "output_type": "stream",
          "name": "stdout",
          "text": [
            "Final weights ==> w0: 0.9999999999999998  w1: -0.9999999999999998  w2: -0.49999999999999994\n",
            "calculated output :  0.9999999999999998\n",
            "Real Output: 0\n",
            "calculated output :  0.49999999999999983\n",
            "Real Output: 0\n",
            "calculated output :  0\n",
            "Real Output: 0\n",
            "calculated output :  0\n",
            "Real Output: 1\n"
          ]
        }
      ],
      "source": [
        "# Initial weights and learning rate\n",
        "w0 = 10\n",
        "w1 = 0.2\n",
        "w2 = -0.75\n",
        "learning_rate = 0.5\n",
        "\n",
        "# Initialize counters and lists to track epoch and error values\n",
        "epoch_count = 0\n",
        "epochs = []\n",
        "sum_square_error = []\n",
        "\n",
        "# Training loop with a maximum of 1000 epochs\n",
        "while epoch_count < 1000:\n",
        "    error = 0\n",
        "\n",
        "    # Loop through the xor gate data\n",
        "    for index, row in xor_table.iterrows():\n",
        "        # Calculate the weighted sum (summation unit)\n",
        "        weighted_sum = row['A'] * w1 + row['B'] * w2 + w0\n",
        "\n",
        "        # Define a ReLU function (you can replace this with the desired activation function)\n",
        "        def relu(x):\n",
        "            return max(0, x)\n",
        "\n",
        "        # Calculate the predicted output using the ReLU function\n",
        "        predicted_output = relu(weighted_sum)\n",
        "\n",
        "        # Calculate the error\n",
        "        e = row['Z'] - predicted_output\n",
        "\n",
        "        # Update weights using the perceptron learning rule\n",
        "        w0 += learning_rate * e\n",
        "        w1 += learning_rate * e * row['A']\n",
        "        w2 += learning_rate * e * row['B']\n",
        "\n",
        "        # Accumulate the error for this epoch\n",
        "        error += e ** 2\n",
        "\n",
        "    # Record epoch and error values\n",
        "    epochs.append(epoch_count)\n",
        "    sum_square_error.append(error)\n",
        "\n",
        "    # Check for convergence (error threshold of 0.002)\n",
        "    if error < 0.002:\n",
        "        print(\"Converged after epoch count:\", epoch_count)\n",
        "        break\n",
        "\n",
        "    # Increment the epoch count\n",
        "    epoch_count += 1\n",
        "\n",
        "# Plot epochs vs. sum-square error\n",
        "plt.plot(epochs, sum_square_error)\n",
        "plt.xlabel('Epochs')\n",
        "plt.ylabel('Sum-Square Error')\n",
        "plt.title('Epochs vs. Sum-Square Error')\n",
        "plt.grid()\n",
        "plt.show()\n",
        "\n",
        "# Print the final learned weights\n",
        "print(\"Final weights ==> w0:\", w0, \" w1:\", w1, \" w2:\", w2)\n",
        "\n",
        "# Test the perceptron with AND gate inputs and print real outputs\n",
        "for index, row in and_table.iterrows():\n",
        "    print(\"calculated output : \",relu(summation_unit(row['A'],row['B'],w0,w1,w2)))\n",
        "    print(\"Real Output:\", row['Z'])\n"
      ]
    },
    {
      "cell_type": "markdown",
      "id": "ce081183",
      "metadata": {
        "id": "ce081183"
      },
      "source": [
        "# A3 for XOR gate"
      ]
    },
    {
      "cell_type": "code",
      "execution_count": null,
      "id": "d4603034",
      "metadata": {
        "colab": {
          "base_uri": "https://localhost:8080/",
          "height": 472
        },
        "id": "d4603034",
        "outputId": "09fe2d72-c8ce-40a9-efcb-3be4082ffa5f"
      },
      "outputs": [
        {
          "output_type": "display_data",
          "data": {
            "text/plain": [
              "<Figure size 640x480 with 1 Axes>"
            ],
            "image/png": "[encoded data removed]"
          },
          "metadata": {}
        }
      ],
      "source": [
        "import numpy as np\n",
        "import matplotlib.pyplot as plt\n",
        "\n",
        "# List of learning rates to experiment with\n",
        "learning_rates = [0.1, 0.2, 0.3, 0.4, 0.5, 0.6, 0.7, 0.8, 0.9, 1]\n",
        "\n",
        "# Initialize a list to store the number of epochs needed for convergence for each learning rate\n",
        "number_of_epochs_needed = []\n",
        "\n",
        "for learning_rate in learning_rates:\n",
        "    # Initialize weights\n",
        "    w0 = 10\n",
        "    w1 = 0.2\n",
        "    w2 = -0.75\n",
        "\n",
        "    # Initialize epoch count and lists to track epoch and error values\n",
        "    epoch_count = 0\n",
        "    epochs = []\n",
        "    sum_square_errors = []\n",
        "\n",
        "    # XOR gate data\n",
        "    xortable = [\n",
        "        {'A': 0, 'B': 0, 'Z': 0},\n",
        "        {'A': 0, 'B': 1, 'Z': 1},\n",
        "        {'A': 1, 'B': 0, 'Z': 1},\n",
        "        {'A': 1, 'B': 1, 'Z': 0}\n",
        "    ]\n",
        "\n",
        "    # Maximum number of epochs for training (in case it doesn't converge)\n",
        "    max_epochs = 100\n",
        "\n",
        "    while epoch_count < max_epochs:\n",
        "        error = 0\n",
        "\n",
        "        # Loop through the XOR gate data\n",
        "        for row in xortable:\n",
        "            # Calculate the weighted sum (summation unit)\n",
        "            weighted_sum = row['A'] * w1 + row['B'] * w2 + w0\n",
        "\n",
        "            # Define a step function (you can replace this with the desired activation function)\n",
        "            def step_function(x):\n",
        "                return 1 if x >= 0 else 0\n",
        "\n",
        "            # Calculate the predicted output using the step function\n",
        "            predicted_output = step_function(weighted_sum)\n",
        "\n",
        "            # Calculate the error\n",
        "            e = row['Z'] - predicted_output\n",
        "\n",
        "            # Update weights\n",
        "            w0 += learning_rate * e\n",
        "            w1 += learning_rate * e * row['A']\n",
        "            w2 += learning_rate * e * row['B']\n",
        "\n",
        "            # Accumulate the error for this epoch\n",
        "            error += e ** 2\n",
        "\n",
        "        # Record epoch and error values\n",
        "        epochs.append(epoch_count)\n",
        "        sum_square_errors.append(error)\n",
        "\n",
        "        # Check for convergence (error threshold of 0.002)\n",
        "        if error < 0.002:\n",
        "            break\n",
        "\n",
        "        # Increment the epoch count\n",
        "        epoch_count += 1\n",
        "\n",
        "    # Append the number of epochs needed to converge for this learning rate\n",
        "    number_of_epochs_needed.append(epoch_count)\n",
        "\n",
        "# Plot learning rates vs. number of epochs needed for convergence\n",
        "plt.plot(learning_rates, number_of_epochs_needed, marker='o')\n",
        "plt.xlabel('Learning Rate')\n",
        "plt.ylabel('Number of Epochs Needed')\n",
        "plt.title('Learning Rate vs. Number of Epochs Needed for Convergence (XOR Gate)')\n",
        "plt.grid()\n",
        "plt.show()\n"
      ]
    },
    {
      "cell_type": "markdown",
      "source": [
        "A5. Use customer data provided below. Build a perceptron & learn to classify the transactions as\n",
        "high or low value as provided in the below table. Use sigmoid as the activation function. Initialize the\n",
        "weights & learning rate with your choice.\n"
      ],
      "metadata": {
        "id": "oW1nytDED449"
      },
      "id": "oW1nytDED449"
    },
    {
      "cell_type": "code",
      "execution_count": null,
      "id": "9dc2de6c",
      "metadata": {
        "scrolled": true,
        "colab": {
          "base_uri": "https://localhost:8080/",
          "height": 593
        },
        "id": "9dc2de6c",
        "outputId": "b17be604-a647-4c67-d9f7-de30907bcfdc"
      },
      "outputs": [
        {
          "output_type": "stream",
          "name": "stderr",
          "text": [
            "<ipython-input-73-25dc062d0e05>:19: RuntimeWarning: overflow encountered in exp\n",
            "  return 1 / (1 + np.exp(-x))\n"
          ]
        },
        {
          "output_type": "stream",
          "name": "stdout",
          "text": [
            "Converged after epoch count: 503\n"
          ]
        },
        {
          "output_type": "display_data",
          "data": {
            "text/plain": [
              "<Figure size 640x480 with 1 Axes>"
            ],
            "image/png": "[encoded data removed]"
          },
          "metadata": {}
        },
        {
          "output_type": "stream",
          "name": "stdout",
          "text": [
            "Final weights ==> w0: -3.621316356315513  w1: -53.48035135810678  w2: 8.403547545518459  w3: -21.15004489917351  w4: 4.613955460272609\n",
            "   Candies  Mangoes  MilkPackets  Payment  PredictedOutput\n",
            "0       17        5            3      320     1.000000e+00\n",
            "1       23        2            4      150    2.261180e-265\n"
          ]
        }
      ],
      "source": [
        "import numpy as np\n",
        "import pandas as pd\n",
        "import matplotlib.pyplot as plt\n",
        "\n",
        "# Define customer data with features\n",
        "data = pd.DataFrame({\n",
        "    'Candies': [20, 16, 27, 19, 24, 22, 15, 18, 21, 16],\n",
        "    'Mangoes': [6, 3, 6, 1, 4, 1, 4, 4, 1, 2],\n",
        "    'MilkPackets': [2, 6, 2, 2, 2, 5, 2, 2, 4, 4],\n",
        "    'Payment': [386, 289, 393, 110, 280, 167, 271, 274, 148, 198],\n",
        "    'HighValueTx': ['Yes', 'Yes', 'Yes', 'No', 'Yes', 'No', 'Yes', 'Yes', 'No', 'No']\n",
        "})\n",
        "\n",
        "# Map 'Yes' to 1 and 'No' to 0 for 'HighValueTx' column\n",
        "data['HighValueTx'] = data['HighValueTx'].map({'Yes': 1, 'No': 0})\n",
        "\n",
        "# Define the sigmoid activation function\n",
        "def sigmoid(x):\n",
        "    return 1 / (1 + np.exp(-x))\n",
        "\n",
        "# Initialize weights and learning rate\n",
        "w0 = 0.1\n",
        "w1 = 0.2\n",
        "w2 = 0.3\n",
        "w3 = 0.4\n",
        "w4 = 0.5\n",
        "learning_rate = 0.01\n",
        "\n",
        "# Initialize epoch count and lists to track epoch and error values\n",
        "epoch_count = 0\n",
        "epochs = []\n",
        "sum_square_errors = []\n",
        "\n",
        "# Maximum number of epochs for training (in case it doesn't converge)\n",
        "max_epochs = 1000\n",
        "\n",
        "while epoch_count < max_epochs:\n",
        "    error = 0\n",
        "\n",
        "    for index, row in data.iterrows():\n",
        "        # Calculate the weighted sum (summation unit)\n",
        "        weighted_sum = w0 + w1 * row['Candies'] + w2 * row['Mangoes'] + w3 * row['MilkPackets'] + w4 * row['Payment']\n",
        "\n",
        "        # Calculate the predicted output using the sigmoid function\n",
        "        predicted_output = sigmoid(weighted_sum)\n",
        "\n",
        "        # Calculate the error\n",
        "        e = row['HighValueTx'] - predicted_output\n",
        "\n",
        "        # Update weights using the perceptron learning rule\n",
        "        w0 += learning_rate * e\n",
        "        w1 += learning_rate * e * row['Candies']\n",
        "        w2 += learning_rate * e * row['Mangoes']\n",
        "        w3 += learning_rate * e * row['MilkPackets']\n",
        "        w4 += learning_rate * e * row['Payment']\n",
        "\n",
        "        # Accumulate the error for this epoch\n",
        "        error += e ** 2\n",
        "\n",
        "    # Record epoch and error values\n",
        "    epochs.append(epoch_count)\n",
        "    sum_square_errors.append(error)\n",
        "\n",
        "    # Check for convergence (error threshold of 0.002)\n",
        "    if error < 0.002:\n",
        "        print(\"Converged after epoch count:\", epoch_count)\n",
        "        break\n",
        "\n",
        "    # Increment the epoch count\n",
        "    epoch_count += 1\n",
        "\n",
        "# Plot epochs vs. sum-square error\n",
        "plt.plot(epochs, sum_square_errors)\n",
        "plt.xlabel('Epochs')\n",
        "plt.ylabel('Sum-Square Error')\n",
        "plt.title('Epochs vs. Sum-Square Error')\n",
        "plt.grid()\n",
        "plt.show()\n",
        "\n",
        "# Print the final learned weights\n",
        "print(\"Final weights ==> w0:\", w0, \" w1:\", w1, \" w2:\", w2, \" w3:\", w3, \" w4:\", w4)\n",
        "\n",
        "# Test the perceptron with sample data and print predicted outputs\n",
        "sample_data = pd.DataFrame({\n",
        "    'Candies': [17, 23],\n",
        "    'Mangoes': [5, 2],\n",
        "    'MilkPackets': [3, 4],\n",
        "    'Payment': [320, 150]\n",
        "})\n",
        "\n",
        "predicted_outputs = []\n",
        "for index, row in sample_data.iterrows():\n",
        "    weighted_sum = w0 + w1 * row['Candies'] + w2 * row['Mangoes'] + w3 * row['MilkPackets'] + w4 * row['Payment']\n",
        "    predicted_output = sigmoid(weighted_sum)\n",
        "    predicted_outputs.append(predicted_output)\n",
        "\n",
        "sample_data['PredictedOutput'] = predicted_outputs\n",
        "print(sample_data)\n",
        "\n"
      ]
    },
    {
      "cell_type": "code",
      "execution_count": null,
      "id": "70352773",
      "metadata": {
        "id": "70352773"
      },
      "outputs": [],
      "source": [
        "products_dataframe = pd.read_excel(\"/content/Lab Session1 Data.xlsx\", sheet_name=\"Purchase data\")"
      ]
    },
    {
      "cell_type": "code",
      "source": [
        "products_dataframe.dropna(axis=1)"
      ],
      "metadata": {
        "colab": {
          "base_uri": "https://localhost:8080/",
          "height": 363
        },
        "id": "j8RmfNJYGaac",
        "outputId": "79a86bd9-f462-4ebf-fb36-597b0b3b2c58"
      },
      "id": "j8RmfNJYGaac",
      "execution_count": null,
      "outputs": [
        {
          "output_type": "execute_result",
          "data": {
            "text/plain": [
              "  Customer  Candies (#)  Mangoes (Kg)  Milk Packets (#)  Payment (Rs)\n",
              "0      C_1           20             6                 2           386\n",
              "1      C_2           16             3                 6           289\n",
              "2      C_3           27             6                 2           393\n",
              "3      C_4           19             1                 2           110\n",
              "4      C_5           24             4                 2           280\n",
              "5      C_6           22             1                 5           167\n",
              "6      C_7           15             4                 2           271\n",
              "7      C_8           18             4                 2           274\n",
              "8      C_9           21             1                 4           148\n",
              "9     C_10           16             2                 4           198"
            ],
            "text/html": [
              "\n",
              "  <div id=\"df-9d5af150-7daa-4d89-a7b3-72d33739ef4e\" class=\"colab-df-container\">\n",
              "    <div>\n",
              "<style scoped>\n",
              "    .dataframe tbody tr th:only-of-type {\n",
              "        vertical-align: middle;\n",
              "    }\n",
              "\n",
              "    .dataframe tbody tr th {\n",
              "        vertical-align: top;\n",
              "    }\n",
              "\n",
              "    .dataframe thead th {\n",
              "        text-align: right;\n",
              "    }\n",
              "</style>\n",
              "<table border=\"1\" class=\"dataframe\">\n",
              "  <thead>\n",
              "    <tr style=\"text-align: right;\">\n",
              "      <th></th>\n",
              "      <th>Customer</th>\n",
              "      <th>Candies (#)</th>\n",
              "      <th>Mangoes (Kg)</th>\n",
              "      <th>Milk Packets (#)</th>\n",
              "      <th>Payment (Rs)</th>\n",
              "    </tr>\n",
              "  </thead>\n",
              "  <tbody>\n",
              "    <tr>\n",
              "      <th>0</th>\n",
              "      <td>C_1</td>\n",
              "      <td>20</td>\n",
              "      <td>6</td>\n",
              "      <td>2</td>\n",
              "      <td>386</td>\n",
              "    </tr>\n",
              "    <tr>\n",
              "      <th>1</th>\n",
              "      <td>C_2</td>\n",
              "      <td>16</td>\n",
              "      <td>3</td>\n",
              "      <td>6</td>\n",
              "      <td>289</td>\n",
              "    </tr>\n",
              "    <tr>\n",
              "      <th>2</th>\n",
              "      <td>C_3</td>\n",
              "      <td>27</td>\n",
              "      <td>6</td>\n",
              "      <td>2</td>\n",
              "      <td>393</td>\n",
              "    </tr>\n",
              "    <tr>\n",
              "      <th>3</th>\n",
              "      <td>C_4</td>\n",
              "      <td>19</td>\n",
              "      <td>1</td>\n",
              "      <td>2</td>\n",
              "      <td>110</td>\n",
              "    </tr>\n",
              "    <tr>\n",
              "      <th>4</th>\n",
              "      <td>C_5</td>\n",
              "      <td>24</td>\n",
              "      <td>4</td>\n",
              "      <td>2</td>\n",
              "      <td>280</td>\n",
              "    </tr>\n",
              "    <tr>\n",
              "      <th>5</th>\n",
              "      <td>C_6</td>\n",
              "      <td>22</td>\n",
              "      <td>1</td>\n",
              "      <td>5</td>\n",
              "      <td>167</td>\n",
              "    </tr>\n",
              "    <tr>\n",
              "      <th>6</th>\n",
              "      <td>C_7</td>\n",
              "      <td>15</td>\n",
              "      <td>4</td>\n",
              "      <td>2</td>\n",
              "      <td>271</td>\n",
              "    </tr>\n",
              "    <tr>\n",
              "      <th>7</th>\n",
              "      <td>C_8</td>\n",
              "      <td>18</td>\n",
              "      <td>4</td>\n",
              "      <td>2</td>\n",
              "      <td>274</td>\n",
              "    </tr>\n",
              "    <tr>\n",
              "      <th>8</th>\n",
              "      <td>C_9</td>\n",
              "      <td>21</td>\n",
              "      <td>1</td>\n",
              "      <td>4</td>\n",
              "      <td>148</td>\n",
              "    </tr>\n",
              "    <tr>\n",
              "      <th>9</th>\n",
              "      <td>C_10</td>\n",
              "      <td>16</td>\n",
              "      <td>2</td>\n",
              "      <td>4</td>\n",
              "      <td>198</td>\n",
              "    </tr>\n",
              "  </tbody>\n",
              "</table>\n",
              "</div>\n",
              "    <div class=\"colab-df-buttons\">\n",
              "\n",
              "  <div class=\"colab-df-container\">\n",
              "    <button class=\"colab-df-convert\" onclick=\"convertToInteractive('df-9d5af150-7daa-4d89-a7b3-72d33739ef4e')\"\n",
              "            title=\"Convert this dataframe to an interactive table.\"\n",
              "            style=\"display:none;\">\n",
              "\n",
              "  <svg xmlns=\"http://www.w3.org/2000/svg\" height=\"24px\" viewBox=\"0 -960 960 960\">\n",
              "    <path d=\"M120-120v-720h720v720H120Zm60-500h600v-160H180v160Zm220 220h160v-160H400v160Zm0 220h160v-160H400v160ZM180-400h160v-160H180v160Zm440 0h160v-160H620v160ZM180-180h160v-160H180v160Zm440 0h160v-160H620v160Z\"/>\n",
              "  </svg>\n",
              "    </button>\n",
              "\n",
              "  <style>\n",
              "    .colab-df-container {\n",
              "      display:flex;\n",
              "      gap: 12px;\n",
              "    }\n",
              "\n",
              "    .colab-df-convert {\n",
              "      background-color: #E8F0FE;\n",
              "      border: none;\n",
              "      border-radius: 50%;\n",
              "      cursor: pointer;\n",
              "      display: none;\n",
              "      fill: #1967D2;\n",
              "      height: 32px;\n",
              "      padding: 0 0 0 0;\n",
              "      width: 32px;\n",
              "    }\n",
              "\n",
              "    .colab-df-convert:hover {\n",
              "      background-color: #E2EBFA;\n",
              "      box-shadow: 0px 1px 2px rgba(60, 64, 67, 0.3), 0px 1px 3px 1px rgba(60, 64, 67, 0.15);\n",
              "      fill: #174EA6;\n",
              "    }\n",
              "\n",
              "    .colab-df-buttons div {\n",
              "      margin-bottom: 4px;\n",
              "    }\n",
              "\n",
              "    [theme=dark] .colab-df-convert {\n",
              "      background-color: #3B4455;\n",
              "      fill: #D2E3FC;\n",
              "    }\n",
              "\n",
              "    [theme=dark] .colab-df-convert:hover {\n",
              "      background-color: #434B5C;\n",
              "      box-shadow: 0px 1px 3px 1px rgba(0, 0, 0, 0.15);\n",
              "      filter: drop-shadow(0px 1px 2px rgba(0, 0, 0, 0.3));\n",
              "      fill: #FFFFFF;\n",
              "    }\n",
              "  </style>\n",
              "\n",
              "    <script>\n",
              "      const buttonEl =\n",
              "        document.querySelector('#df-9d5af150-7daa-4d89-a7b3-72d33739ef4e button.colab-df-convert');\n",
              "      buttonEl.style.display =\n",
              "        google.colab.kernel.accessAllowed ? 'block' : 'none';\n",
              "\n",
              "      async function convertToInteractive(key) {\n",
              "        const element = document.querySelector('#df-9d5af150-7daa-4d89-a7b3-72d33739ef4e');\n",
              "        const dataTable =\n",
              "          await google.colab.kernel.invokeFunction('convertToInteractive',\n",
              "                                                    [key], {});\n",
              "        if (!dataTable) return;\n",
              "\n",
              "        const docLinkHtml = 'Like what you see? Visit the ' +\n",
              "          '<a target=\"_blank\" href=https://colab.research.google.com/notebooks/data_table.ipynb>data table notebook</a>'\n",
              "          + ' to learn more about interactive tables.';\n",
              "        element.innerHTML = '';\n",
              "        dataTable['output_type'] = 'display_data';\n",
              "        await google.colab.output.renderOutput(dataTable, element);\n",
              "        const docLink = document.createElement('div');\n",
              "        docLink.innerHTML = docLinkHtml;\n",
              "        element.appendChild(docLink);\n",
              "      }\n",
              "    </script>\n",
              "  </div>\n",
              "\n",
              "\n",
              "<div id=\"df-d5b74bda-ccee-4873-9625-c2bc66c3365b\">\n",
              "  <button class=\"colab-df-quickchart\" onclick=\"quickchart('df-d5b74bda-ccee-4873-9625-c2bc66c3365b')\"\n",
              "            title=\"Suggest charts.\"\n",
              "            style=\"display:none;\">\n",
              "\n",
              "<svg xmlns=\"http://www.w3.org/2000/svg\" height=\"24px\"viewBox=\"0 0 24 24\"\n",
              "     width=\"24px\">\n",
              "    <g>\n",
              "        <path d=\"M19 3H5c-1.1 0-2 .9-2 2v14c0 1.1.9 2 2 2h14c1.1 0 2-.9 2-2V5c0-1.1-.9-2-2-2zM9 17H7v-7h2v7zm4 0h-2V7h2v10zm4 0h-2v-4h2v4z\"/>\n",
              "    </g>\n",
              "</svg>\n",
              "  </button>\n",
              "\n",
              "<style>\n",
              "  .colab-df-quickchart {\n",
              "      --bg-color: #E8F0FE;\n",
              "      --fill-color: #1967D2;\n",
              "      --hover-bg-color: #E2EBFA;\n",
              "      --hover-fill-color: #174EA6;\n",
              "      --disabled-fill-color: #AAA;\n",
              "      --disabled-bg-color: #DDD;\n",
              "  }\n",
              "\n",
              "  [theme=dark] .colab-df-quickchart {\n",
              "      --bg-color: #3B4455;\n",
              "      --fill-color: #D2E3FC;\n",
              "      --hover-bg-color: #434B5C;\n",
              "      --hover-fill-color: #FFFFFF;\n",
              "      --disabled-bg-color: #3B4455;\n",
              "      --disabled-fill-color: #666;\n",
              "  }\n",
              "\n",
              "  .colab-df-quickchart {\n",
              "    background-color: var(--bg-color);\n",
              "    border: none;\n",
              "    border-radius: 50%;\n",
              "    cursor: pointer;\n",
              "    display: none;\n",
              "    fill: var(--fill-color);\n",
              "    height: 32px;\n",
              "    padding: 0;\n",
              "    width: 32px;\n",
              "  }\n",
              "\n",
              "  .colab-df-quickchart:hover {\n",
              "    background-color: var(--hover-bg-color);\n",
              "    box-shadow: 0 1px 2px rgba(60, 64, 67, 0.3), 0 1px 3px 1px rgba(60, 64, 67, 0.15);\n",
              "    fill: var(--button-hover-fill-color);\n",
              "  }\n",
              "\n",
              "  .colab-df-quickchart-complete:disabled,\n",
              "  .colab-df-quickchart-complete:disabled:hover {\n",
              "    background-color: var(--disabled-bg-color);\n",
              "    fill: var(--disabled-fill-color);\n",
              "    box-shadow: none;\n",
              "  }\n",
              "\n",
              "  .colab-df-spinner {\n",
              "    border: 2px solid var(--fill-color);\n",
              "    border-color: transparent;\n",
              "    border-bottom-color: var(--fill-color);\n",
              "    animation:\n",
              "      spin 1s steps(1) infinite;\n",
              "  }\n",
              "\n",
              "  @keyframes spin {\n",
              "    0% {\n",
              "      border-color: transparent;\n",
              "      border-bottom-color: var(--fill-color);\n",
              "      border-left-color: var(--fill-color);\n",
              "    }\n",
              "    20% {\n",
              "      border-color: transparent;\n",
              "      border-left-color: var(--fill-color);\n",
              "      border-top-color: var(--fill-color);\n",
              "    }\n",
              "    30% {\n",
              "      border-color: transparent;\n",
              "      border-left-color: var(--fill-color);\n",
              "      border-top-color: var(--fill-color);\n",
              "      border-right-color: var(--fill-color);\n",
              "    }\n",
              "    40% {\n",
              "      border-color: transparent;\n",
              "      border-right-color: var(--fill-color);\n",
              "      border-top-color: var(--fill-color);\n",
              "    }\n",
              "    60% {\n",
              "      border-color: transparent;\n",
              "      border-right-color: var(--fill-color);\n",
              "    }\n",
              "    80% {\n",
              "      border-color: transparent;\n",
              "      border-right-color: var(--fill-color);\n",
              "      border-bottom-color: var(--fill-color);\n",
              "    }\n",
              "    90% {\n",
              "      border-color: transparent;\n",
              "      border-bottom-color: var(--fill-color);\n",
              "    }\n",
              "  }\n",
              "</style>\n",
              "\n",
              "  <script>\n",
              "    async function quickchart(key) {\n",
              "      const quickchartButtonEl =\n",
              "        document.querySelector('#' + key + ' button');\n",
              "      quickchartButtonEl.disabled = true;  // To prevent multiple clicks.\n",
              "      quickchartButtonEl.classList.add('colab-df-spinner');\n",
              "      try {\n",
              "        const charts = await google.colab.kernel.invokeFunction(\n",
              "            'suggestCharts', [key], {});\n",
              "      } catch (error) {\n",
              "        console.error('Error during call to suggestCharts:', error);\n",
              "      }\n",
              "      quickchartButtonEl.classList.remove('colab-df-spinner');\n",
              "      quickchartButtonEl.classList.add('colab-df-quickchart-complete');\n",
              "    }\n",
              "    (() => {\n",
              "      let quickchartButtonEl =\n",
              "        document.querySelector('#df-d5b74bda-ccee-4873-9625-c2bc66c3365b button');\n",
              "      quickchartButtonEl.style.display =\n",
              "        google.colab.kernel.accessAllowed ? 'block' : 'none';\n",
              "    })();\n",
              "  </script>\n",
              "</div>\n",
              "    </div>\n",
              "  </div>\n"
            ]
          },
          "metadata": {},
          "execution_count": 75
        }
      ]
    },
    {
      "cell_type": "markdown",
      "source": [
        "A6. Compare the results obtained from above perceptron learning to the ones obtained with matrix\n",
        "pseudo-inverse."
      ],
      "metadata": {
        "id": "p16b7IwGeR9D"
      },
      "id": "p16b7IwGeR9D"
    },
    {
      "cell_type": "code",
      "execution_count": null,
      "id": "360eb7f5",
      "metadata": {
        "colab": {
          "base_uri": "https://localhost:8080/"
        },
        "id": "360eb7f5",
        "outputId": "a9ba8aa9-06ea-49df-edd1-63dc24d898e2"
      },
      "outputs": [
        {
          "output_type": "stream",
          "name": "stdout",
          "text": [
            "time taken using matrix inversion :  0.0007381439208984375\n"
          ]
        }
      ],
      "source": [
        "# using matrix inversion:\n",
        "\n",
        "A = products_dataframe[['Candies (#)','Mangoes (Kg)','Milk Packets (#)']]\n",
        "B = products_dataframe[['Payment (Rs)']]\n",
        "\n",
        "start = time.time()\n",
        "Ain = np.linalg.pinv(A)\n",
        "X = np.dot(Ain,B)\n",
        "end = time.time()\n",
        "\n",
        "print(\"time taken using matrix inversion : \",end-start)"
      ]
    },
    {
      "cell_type": "code",
      "execution_count": null,
      "id": "b77ba7bd",
      "metadata": {
        "colab": {
          "base_uri": "https://localhost:8080/"
        },
        "id": "b77ba7bd",
        "outputId": "dcf769e0-e89f-4177-8f05-806d1a05246b"
      },
      "outputs": [
        {
          "output_type": "execute_result",
          "data": {
            "text/plain": [
              "array([[ 1.],\n",
              "       [55.],\n",
              "       [18.]])"
            ]
          },
          "metadata": {},
          "execution_count": 79
        }
      ],
      "source": [
        "X"
      ]
    },
    {
      "cell_type": "code",
      "execution_count": null,
      "id": "2d755305",
      "metadata": {
        "colab": {
          "base_uri": "https://localhost:8080/",
          "height": 480
        },
        "id": "2d755305",
        "outputId": "8e13acc7-7594-4d43-f4e6-5ef658205369"
      },
      "outputs": [
        {
          "output_type": "display_data",
          "data": {
            "text/plain": [
              "<Figure size 640x480 with 1 Axes>"
            ],
            "image/png": "[encoded data removed]"
          },
          "metadata": {}
        },
        {
          "output_type": "stream",
          "name": "stdout",
          "text": [
            "Time taken by perceptron:  0.01988673210144043\n",
            "Weights ==> w0:  -5.512515357708273e+45  w1:  -1.0146028551405357e+45  w2:  -1.5263557771905693e+45\n"
          ]
        }
      ],
      "source": [
        "# Import necessary libraries\n",
        "import time\n",
        "import matplotlib.pyplot as plt\n",
        "\n",
        "# Define initial weights and learning rate\n",
        "w0 = 1\n",
        "w1 = 54\n",
        "w2 = 18\n",
        "learning_rate = 0.01\n",
        "\n",
        "# Initialize epoch count and lists to store data for plotting\n",
        "epoch_count = 0\n",
        "epoches = []\n",
        "sum_square_error = []\n",
        "\n",
        "# Start timing the training process\n",
        "start = time.time()\n",
        "\n",
        "# Loop until a maximum of 10 epochs or until the error threshold is reached\n",
        "while epoch_count < 10:\n",
        "    error = 0\n",
        "\n",
        "    # Iterate through rows in the 'products_dataframe'\n",
        "    for index, row in products_dataframe.iterrows():\n",
        "\n",
        "        # Calculate the predicted value using the current weights\n",
        "        predicted_value = summation_data(row['Candies (#)'], row['Mangoes (Kg)'], row['Milk Packets (#)'], w0, w1, w2)\n",
        "\n",
        "        # Calculate the error (the difference between predicted and actual payment)\n",
        "        e = row['Payment (Rs)'] - predicted_value\n",
        "\n",
        "        # Update weights using the perceptron learning rule\n",
        "        w0 += learning_rate * e * row['Candies (#)']\n",
        "        w1 += learning_rate * e * row['Mangoes (Kg)']\n",
        "        w2 += learning_rate * e * row['Milk Packets (#)']\n",
        "\n",
        "        # Accumulate the squared error\n",
        "        error += e ** 2\n",
        "\n",
        "    # Append epoch count and squared error to the respective lists for later plotting\n",
        "    epoches.append(epoch_count)\n",
        "    sum_square_error.append(error)\n",
        "\n",
        "    # Check if the error is below a certain threshold (0.002) and break if so\n",
        "    if error < 0.002:\n",
        "        print(\"Epoch count : \", epoch_count)\n",
        "        break\n",
        "\n",
        "    # Increment the epoch count\n",
        "    epoch_count += 1\n",
        "\n",
        "# End timing\n",
        "end = time.time()\n",
        "\n",
        "# Plot the epoch vs. squared error graph\n",
        "plt.plot(epoches, sum_square_error)\n",
        "plt.show()\n",
        "\n",
        "# Print the time taken for the perceptron training\n",
        "print(\"Time taken by perceptron: \", end - start)\n",
        "\n",
        "# Print the final weights\n",
        "print(\"Weights ==> w0: \", w0, \" w1: \", w1, \" w2: \", w2)\n"
      ]
    },
    {
      "cell_type": "markdown",
      "source": [],
      "metadata": {
        "id": "InRbFjEs0hiY"
      },
      "id": "InRbFjEs0hiY"
    },
    {
      "cell_type": "markdown",
      "id": "2cbdffdc",
      "metadata": {
        "id": "2cbdffdc"
      },
      "source": [
        "# A7. Develop the belowNeural Network. Use learning rate (α) = 0.05 with a Sigmoid activation function. Learn the weights of the network using back-propagation algorithm to implement above provided AND gate logic."
      ]
    },
    {
      "cell_type": "code",
      "execution_count": null,
      "id": "a79a33b6",
      "metadata": {
        "id": "a79a33b6"
      },
      "outputs": [],
      "source": [
        "def sigmoid_function(x):\n",
        "    return 1/(1+math.e**-x)"
      ]
    },
    {
      "cell_type": "code",
      "execution_count": null,
      "id": "201cafdf",
      "metadata": {
        "id": "201cafdf"
      },
      "outputs": [],
      "source": [
        "# Define initial weights and learning rate\n",
        "V = [[1, -1], [1, 1]]\n",
        "W = [1, 1]\n",
        "learning_rate = 0.05\n",
        "\n",
        "# Initialize variables for iterations and error tracking\n",
        "iter = 0\n",
        "error = 0\n",
        "errors = []\n",
        "\n",
        "# Loop for a maximum of 1000 iterations or until the error falls below 0.02 or is initially 0\n",
        "while iter < 1000 and (error > 0.02 or error == 0):\n",
        "    error = 0\n",
        "\n",
        "    # Iterate through rows in the 'and_table'\n",
        "    for index, row in and_table.iterrows():\n",
        "        input_hidden = []\n",
        "        hidden_out = []\n",
        "\n",
        "        # Calculate the inputs and outputs for the hidden layer\n",
        "        input_hidden.append(row['A'] * V[0][0] + row['B'] * V[1][0])\n",
        "        input_hidden.append(row['A'] * V[0][1] + row['B'] * V[1][1])\n",
        "        hidden_out.append(sigmoid_function(input_hidden[0]))\n",
        "        hidden_out.append(sigmoid_function(input_hidden[1]))\n",
        "\n",
        "        # Calculate the output of the network\n",
        "        output = sigmoid_function(hidden_out[0] * W[0] + (hidden_out[1] * W[1]))\n",
        "\n",
        "        # Calculate the error for this example\n",
        "        ERROR = row['Z'] - output\n",
        "\n",
        "        # Calculate delta for the output layer\n",
        "        delta1 = ERROR * output * (1 - output)\n",
        "\n",
        "        # Calculate delta for the hidden layer\n",
        "        delta2 = [delta1 * W[0] * hidden_out[0] * (1 - hidden_out[0]), delta1 * W[1] * hidden_out[1] * (1 - hidden_out[1])]\n",
        "\n",
        "        # Update weights for the output layer\n",
        "        for i in range(len(W)):\n",
        "            W[i] += learning_rate * delta1 * hidden_out[i]\n",
        "\n",
        "        # Update weights for the hidden layer\n",
        "        V[0][0] += learning_rate * delta2[0] * row['A']\n",
        "        V[0][1] += learning_rate * delta2[1] * row['A']\n",
        "        V[1][0] += learning_rate * delta2[0] * row['B']\n",
        "        V[1][1] += learning_rate * delta2[1] * row['B']\n",
        "\n",
        "        # Accumulate the squared error for this iteration\n",
        "        error += ERROR ** 2\n",
        "\n",
        "    # Append the total squared error for this iteration to the list\n",
        "    errors.append(error)\n",
        "\n",
        "    # Increment the iteration counter\n",
        "    iter += 1\n"
      ]
    },
    {
      "cell_type": "code",
      "execution_count": null,
      "id": "2f0486d2",
      "metadata": {
        "colab": {
          "base_uri": "https://localhost:8080/",
          "height": 430
        },
        "id": "2f0486d2",
        "outputId": "578a58ef-8d03-4f17-94a6-05a7eea7df24"
      },
      "outputs": [
        {
          "output_type": "display_data",
          "data": {
            "text/plain": [
              "<Figure size 640x480 with 1 Axes>"
            ],
            "image/png": "[encoded data removed]"
          },
          "metadata": {}
        }
      ],
      "source": [
        "plt.plot(errors)\n",
        "plt.show()"
      ]
    },
    {
      "cell_type": "markdown",
      "id": "4af56c03",
      "metadata": {
        "id": "4af56c03"
      },
      "source": [
        "# A8. Repeat the above A1 experiment for XOR Gate logic. Keep the learning rate & activation function same as A1."
      ]
    },
    {
      "cell_type": "code",
      "execution_count": null,
      "id": "0a757d41",
      "metadata": {
        "id": "0a757d41"
      },
      "outputs": [],
      "source": [
        "# Define initial weights and learning rate\n",
        "V = [[1, 1], [1, 1]]\n",
        "W = [1, 1]\n",
        "learning_rate = 0.05\n",
        "\n",
        "# Initialize variables for iterations and error tracking\n",
        "iter = 0\n",
        "error = 0\n",
        "errors = []\n",
        "\n",
        "# Loop for a maximum of 1000 iterations or until the error falls below 0.02 or is initially 0\n",
        "while iter < 1000 and (error > 0.02 or error == 0):\n",
        "    error = 0\n",
        "\n",
        "    # Iterate through rows in the 'xor_table'\n",
        "    for index, row in xor_table.iterrows():\n",
        "        input_hidden = []\n",
        "        hidden_out = []\n",
        "\n",
        "        # Calculate the inputs and outputs for the hidden layer\n",
        "        input_hidden.append(row['A'] * V[0][0] + row['B'] * V[1][0])\n",
        "        input_hidden.append(row['A'] * V[0][1] + row['B'] * V[1][1])\n",
        "        hidden_out.append(sigmoid_function(input_hidden[0]))\n",
        "        hidden_out.append(sigmoid_function(input_hidden[1]))\n",
        "\n",
        "        # Calculate the output of the network\n",
        "        output = sigmoid_function(hidden_out[0] * W[0] + (hidden_out[1] * W[1]))\n",
        "\n",
        "        # Calculate the error for this example\n",
        "        ERROR = row['Z'] - output\n",
        "\n",
        "        # Calculate delta for the output layer\n",
        "        delta1 = ERROR * output * (1 - output)\n",
        "\n",
        "        # Calculate delta for the hidden layer\n",
        "        delta2 = [delta1 * W[0] * hidden_out[0] * (1 - hidden_out[0]), delta1 * W[1] * hidden_out[1] * (1 - hidden_out[1])]\n",
        "\n",
        "        # Update weights for the output layer\n",
        "        for i in range(len(W)):\n",
        "            W[i] += learning_rate * delta1 * hidden_out[i]\n",
        "\n",
        "        # Update weights for the hidden layer\n",
        "        V[0][0] += learning_rate * delta2[0] * row['A']\n",
        "        V[0][1] += learning_rate * delta2[1] * row['A']\n",
        "        V[1][0] += learning_rate * delta2[0] * row['B']\n",
        "        V[1][1] += learning_rate * delta2[1] * row['B']\n",
        "\n",
        "        # Accumulate the squared error for this iteration\n",
        "        error += ERROR ** 2\n",
        "\n",
        "    # Append the total squared error for this iteration to the list\n",
        "    errors.append(error)\n",
        "\n",
        "    # Increment the iteration counter\n",
        "    iter += 1\n"
      ]
    },
    {
      "cell_type": "code",
      "execution_count": null,
      "id": "1e152154",
      "metadata": {
        "colab": {
          "base_uri": "https://localhost:8080/",
          "height": 435
        },
        "id": "1e152154",
        "outputId": "9e740cf5-cc10-4bd5-dc5b-225d52cfb8e2"
      },
      "outputs": [
        {
          "output_type": "display_data",
          "data": {
            "text/plain": [
              "<Figure size 640x480 with 1 Axes>"
            ],
            "image/png": "[encoded data removed]"
          },
          "metadata": {}
        }
      ],
      "source": [
        "plt.plot(errors)\n",
        "plt.show()"
      ]
    },
    {
      "cell_type": "markdown",
      "id": "f6fcf53f",
      "metadata": {
        "id": "f6fcf53f"
      },
      "source": [
        "# A9. Repeat exercise A1 & A2 with 2 output nodes (as shown below). A zero output of logic gate maps to [O1O2] = [1 0] from output layer while a one output from logic gate maps to [0 1]."
      ]
    },
    {
      "cell_type": "code",
      "execution_count": null,
      "id": "24149b22",
      "metadata": {
        "id": "24149b22"
      },
      "outputs": [],
      "source": [
        "# Define initial weights and learning rate\n",
        "V = [[1, 1], [1, 1]]\n",
        "W = [[1, 1], [1, 1]]\n",
        "learning_rate = 0.05\n",
        "\n",
        "# Initialize variables for iterations and error tracking\n",
        "iter = 0\n",
        "error = 0\n",
        "errors = []\n",
        "input_hidden = []\n",
        "hidden_out = []\n",
        "\n",
        "# Loop for a maximum of 1000 iterations or until the error falls below 0.02 or is initially 0\n",
        "while iter < 1000 and (error > 0.02 or error == 0):\n",
        "    error = 0\n",
        "\n",
        "    # Iterate through rows in the 'and_table'\n",
        "    for index, row in and_table.iterrows():\n",
        "        # Define the target output array based on the 'Z' value\n",
        "        O_array = [not(row['Z']), row['Z']]\n",
        "\n",
        "        # Initialize lists for input, hidden layer output, output, and error\n",
        "        input_hidden = []\n",
        "        hidden_out = []\n",
        "        output = []\n",
        "        ERROR = []\n",
        "\n",
        "        # Calculate the inputs and outputs for the hidden layer\n",
        "        input_hidden.append(row['A'] * V[0][0] + row['B'] * V[1][0])\n",
        "        input_hidden.append(row['A'] * V[0][1] + row['B'] * V[1][1])\n",
        "        hidden_out.append(sigmoid_function(input_hidden[0]))\n",
        "        hidden_out.append(sigmoid_function(input_hidden[1]))\n",
        "\n",
        "        # Calculate the output of the network for both output neurons\n",
        "        output.append(sigmoid_function(hidden_out[0] * W[0][0] + hidden_out[1] * W[1][0]))\n",
        "        output.append(sigmoid_function(hidden_out[1] * W[1][1] + hidden_out[0] * W[0][1]))\n",
        "\n",
        "        # Calculate the error for both output neurons\n",
        "        ERROR.append(O_array[0] - output[0])\n",
        "        ERROR.append(O_array[1] - output[1])\n",
        "\n",
        "        # Calculate delta for the output layer\n",
        "        delta1 = [(ERROR[0]) * output[0] * (1 - output[0]), (ERROR[1]) * output[1] * (1 - output[1])]\n",
        "\n",
        "        # Calculate delta for the hidden layer\n",
        "        delta2 = [(delta1[0] * W[0][0] + delta1[1] * W[0][1]) * hidden_out[0] * (1 - hidden_out[0]),\n",
        "                  (delta1[0] * W[1][0] + delta1[1] * W[1][1]) * hidden_out[1] * (1 - hidden_out[1])]\n",
        "\n",
        "        # Update weights for the output layer\n",
        "        W[0][0] += learning_rate * delta1[0] * hidden_out[0]\n",
        "        W[0][1] += learning_rate * delta1[1] * hidden_out[0]\n",
        "        W[1][0] += learning_rate * delta1[0] * hidden_out[1]\n",
        "        W[1][1] += learning_rate * delta1[1] * hidden_out[1]\n",
        "\n",
        "        # Update weights for the hidden layer\n",
        "        V[0][0] += learning_rate * delta2[0] * row['A']\n",
        "        V[0][1] += learning_rate * delta2[1] * row['A']\n",
        "        V[1][0] += learning_rate * delta2[0] * row['B']\n",
        "        V[1][1] += learning_rate * delta2[1] * row['B']\n",
        "\n",
        "        # Accumulate the squared error for this iteration\n",
        "        error += (ERROR[0] ** 2 + ERROR[1] ** 2)\n",
        "\n",
        "    # Append the total squared error for this iteration to the list\n",
        "    errors.append(error)\n",
        "\n",
        "    # Increment the iteration counter\n",
        "    iter += 1\n"
      ]
    },
    {
      "cell_type": "code",
      "execution_count": null,
      "id": "3b76e8a2",
      "metadata": {
        "colab": {
          "base_uri": "https://localhost:8080/",
          "height": 430
        },
        "id": "3b76e8a2",
        "outputId": "1d489607-dc8f-402b-b2c6-ce3605e0632a"
      },
      "outputs": [
        {
          "output_type": "display_data",
          "data": {
            "text/plain": [
              "<Figure size 640x480 with 1 Axes>"
            ],
            "image/png": "[encoded data removed]"
          },
          "metadata": {}
        }
      ],
      "source": [
        "plt.plot(errors)\n",
        "plt.show()"
      ]
    },
    {
      "cell_type": "markdown",
      "id": "6bfe6f6d",
      "metadata": {
        "id": "6bfe6f6d"
      },
      "source": [
        "# A10. Learn using a MLP network from Sci-Kit manual available at https://scikit-learn.org/stable/modules/neural_networks_supervised.html. Repeat the AND Gate and XOR Gate exercises using MLPClassifier() function."
      ]
    },
    {
      "cell_type": "code",
      "execution_count": 3,
      "id": "60769ad8",
      "metadata": {
        "id": "60769ad8"
      },
      "outputs": [],
      "source": [
        "from sklearn.neural_network import MLPClassifier\n",
        "MLP = MLPClassifier(hidden_layer_sizes=2,activation='logistic',solver='sgd',learning_rate_init=0.02,max_iter=1000)"
      ]
    },
    {
      "cell_type": "code",
      "execution_count": 15,
      "id": "284646d0",
      "metadata": {
        "colab": {
          "base_uri": "https://localhost:8080/"
        },
        "id": "284646d0",
        "outputId": "8eddc117-ac42-4df5-bdb9-ef98860b7977"
      },
      "outputs": [
        {
          "output_type": "stream",
          "name": "stdout",
          "text": [
            "MLP Score for AND Gate is 0.75\n"
          ]
        }
      ],
      "source": [
        "# Select the input features (X) and target variable (Y) from the 'and_table'\n",
        "X_andTable = and_table[['A', 'B']]\n",
        "Y_andTable = and_table['Z']\n",
        "\n",
        "# Fit (train) the MLP model using the input features and target variable\n",
        "MLP.fit(X_andTable, Y_andTable)\n",
        "\n",
        "# Score the trained MLP model using the same data and calculate the accuracy\n",
        "# This will give you an idea of how well the model performs on the training data\n",
        "MLP_score=MLP.score(X_andTable, Y_andTable)\n",
        "print(\"MLP Score for AND Gate is\",MLP_score)\n"
      ]
    },
    {
      "cell_type": "code",
      "execution_count": 16,
      "id": "91812fd6",
      "metadata": {
        "colab": {
          "base_uri": "https://localhost:8080/"
        },
        "id": "91812fd6",
        "outputId": "a17c0804-8884-4906-b22e-fe73ebffeecc"
      },
      "outputs": [
        {
          "output_type": "stream",
          "name": "stdout",
          "text": [
            "MLP Score for XOR Gate is 0.5\n"
          ]
        }
      ],
      "source": [
        "# Select the input features (X) and target variable (Y) from the 'xor_table'\n",
        "X_xorTable = xor_table[['A', 'B']]\n",
        "Y_xorTable = xor_table['Z']\n",
        "\n",
        "# Fit (train) the MLP model using the input features and target variable\n",
        "MLP.fit(X_xorTable, Y_xorTable)\n",
        "\n",
        "# Score the trained MLP model using the same data and calculate the accuracy\n",
        "# This will give you an idea of how well the model performs on the training data\n",
        "MLP_score=MLP.score(X_xorTable, Y_xorTable)\n",
        "print(\"MLP Score for XOR Gate is\",MLP_score)\n"
      ]
    },
    {
      "cell_type": "markdown",
      "source": [
        "A11. Use the MLPClassifier() function on your project dataset."
      ],
      "metadata": {
        "id": "mV7dPK5ZglaY"
      },
      "id": "mV7dPK5ZglaY"
    },
    {
      "cell_type": "code",
      "source": [
        "# Import necessary libraries\n",
        "import pandas as pd\n",
        "from sklearn.neural_network import MLPClassifier\n",
        "from sklearn.model_selection import train_test_split\n",
        "from sklearn.preprocessing import LabelEncoder\n",
        "from sklearn.metrics import accuracy_score, precision_score, recall_score, f1_score\n",
        "\n",
        "# Read the CSV data into a DataFrame\n",
        "data = pd.read_csv('face_mimic_df.csv')\n",
        "\n",
        "# Encode the 'id' column to numeric values\n",
        "label_encoder = LabelEncoder()\n",
        "data['id'] = label_encoder.fit_transform(data['id'])\n",
        "\n",
        "# Separate features (x) and target variable (y)\n",
        "x = data.drop(\"diagnosed\", axis=1)\n",
        "y = data[\"diagnosed\"]\n",
        "\n",
        "# Split the data into training and testing sets\n",
        "x_train, x_test, y_train, y_test = train_test_split(x, y, test_size=0.2)\n",
        "\n",
        "# Initialize and configure the MLPClassifier\n",
        "mlp = MLPClassifier(hidden_layer_sizes=(100, 50), activation='relu', solver='adam', max_iter=1000, random_state=42)\n",
        "\n",
        "# Train the MLPClassifier on the training data\n",
        "mlp.fit(x_train, y_train)\n",
        "\n",
        "# Calculate the accuracy score of the trained model on the training data\n",
        "training_accuracy = mlp.score(x_train, y_train)\n",
        "print(\"Training accuracy is \",training_accuracy)"
      ],
      "metadata": {
        "colab": {
          "base_uri": "https://localhost:8080/"
        },
        "id": "glFGv_AjgoLA",
        "outputId": "4817b8ef-fc08-4fdc-98f0-5f5e6747acef"
      },
      "id": "glFGv_AjgoLA",
      "execution_count": 17,
      "outputs": [
        {
          "output_type": "stream",
          "name": "stdout",
          "text": [
            "Training accuracy is  0.937046004842615\n"
          ]
        }
      ]
    }
  ],
  "metadata": {
    "kernelspec": {
      "display_name": "Python 3 (ipykernel)",
      "language": "python",
      "name": "python3"
    },
    "language_info": {
      "codemirror_mode": {
        "name": "ipython",
        "version": 3
      },
      "file_extension": ".py",
      "mimetype": "text/x-python",
      "name": "python",
      "nbconvert_exporter": "python",
      "pygments_lexer": "ipython3",
      "version": "3.11.4"
    },
    "colab": {
      "provenance": []
    }
  },
  "nbformat": 4,
  "nbformat_minor": 5
}